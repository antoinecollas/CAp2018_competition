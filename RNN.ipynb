{
 "cells": [
  {
   "cell_type": "markdown",
   "metadata": {},
   "source": [
    "# Lecture des données"
   ]
  },
  {
   "cell_type": "code",
   "execution_count": 1,
   "metadata": {},
   "outputs": [],
   "source": [
    "import pandas as pd\n",
    "import numpy as np"
   ]
  },
  {
   "cell_type": "code",
   "execution_count": 2,
   "metadata": {},
   "outputs": [],
   "source": [
    "dataset = pd.read_csv('train_cap2018.csv')"
   ]
  },
  {
   "cell_type": "markdown",
   "metadata": {},
   "source": [
    "# Récupération y_train (80 % des données)"
   ]
  },
  {
   "cell_type": "markdown",
   "metadata": {},
   "source": [
    "Création de l'ensemble de test"
   ]
  },
  {
   "cell_type": "code",
   "execution_count": 3,
   "metadata": {},
   "outputs": [],
   "source": [
    "from sklearn.model_selection import train_test_split\n",
    "test_size = 0.2\n",
    "random_state = 42"
   ]
  },
  {
   "cell_type": "code",
   "execution_count": 4,
   "metadata": {},
   "outputs": [
    {
     "name": "stdout",
     "output_type": "stream",
     "text": [
      "(21848, 60)\n"
     ]
    }
   ],
   "source": [
    "train, test = train_test_split(dataset, test_size=test_size, random_state=random_state, shuffle=True, stratify=dataset.loc[:,'level1'])\n",
    "print(train.shape)\n",
    "del test"
   ]
  },
  {
   "cell_type": "code",
   "execution_count": 5,
   "metadata": {},
   "outputs": [
    {
     "name": "stdout",
     "output_type": "stream",
     "text": [
      "(21848,)\n"
     ]
    }
   ],
   "source": [
    "y_train = train.iloc[:, -1]\n",
    "print(y_train.shape)"
   ]
  },
  {
   "cell_type": "code",
   "execution_count": 6,
   "metadata": {},
   "outputs": [],
   "source": [
    "y_train = y_train.replace({\"A1\": 0, \"A2\" : 1, \"B1\" : 2, \"B2\" : 3, \"C1\" : 4, \"C2\" : 5})"
   ]
  },
  {
   "cell_type": "code",
   "execution_count": 7,
   "metadata": {},
   "outputs": [],
   "source": [
    "y_train = np.array(y_train.reset_index().iloc[:,1])"
   ]
  },
  {
   "cell_type": "markdown",
   "metadata": {},
   "source": [
    "# Récupération de X_train (80 % des données)"
   ]
  },
  {
   "cell_type": "code",
   "execution_count": 8,
   "metadata": {},
   "outputs": [
    {
     "name": "stderr",
     "output_type": "stream",
     "text": [
      "/home/ubuntu/anaconda3/envs/tensorflow_p36/lib/python3.6/importlib/_bootstrap.py:219: RuntimeWarning: compiletime version 3.5 of module 'tensorflow.python.framework.fast_tensor_util' does not match runtime version 3.6\n",
      "  return f(*args, **kwds)\n"
     ]
    }
   ],
   "source": [
    "import tensorflow as tf\n",
    "import numpy as np\n",
    "import scipy.sparse as sparse"
   ]
  },
  {
   "cell_type": "code",
   "execution_count": 9,
   "metadata": {},
   "outputs": [],
   "source": [
    "def load(list_files):\n",
    "    list_files = np.sort(list_files)\n",
    "    res = []\n",
    "    for i in range(list_files.shape[0]):\n",
    "        if i%100==0 and i > 0:\n",
    "            print(\"i=\", i)\n",
    "        res.append(sparse.load_npz(file=list_files[i]))\n",
    "    return np.array(res)"
   ]
  },
  {
   "cell_type": "code",
   "execution_count": 10,
   "metadata": {
    "scrolled": true
   },
   "outputs": [
    {
     "name": "stdout",
     "output_type": "stream",
     "text": [
      "i= 100\n",
      "i= 200\n",
      "i= 300\n",
      "i= 400\n",
      "i= 500\n",
      "i= 600\n",
      "i= 700\n",
      "i= 800\n",
      "i= 900\n",
      "i= 1000\n",
      "i= 1100\n",
      "i= 1200\n",
      "i= 1300\n",
      "i= 1400\n",
      "i= 1500\n",
      "i= 1600\n",
      "i= 1700\n",
      "i= 1800\n",
      "i= 1900\n",
      "i= 2000\n",
      "i= 2100\n",
      "i= 2200\n",
      "i= 2300\n",
      "i= 2400\n",
      "i= 2500\n",
      "i= 2600\n",
      "i= 2700\n",
      "i= 2800\n",
      "i= 2900\n",
      "i= 3000\n",
      "i= 3100\n",
      "i= 3200\n",
      "i= 3300\n",
      "i= 3400\n",
      "i= 3500\n",
      "i= 3600\n",
      "i= 3700\n",
      "i= 3800\n",
      "i= 3900\n",
      "i= 4000\n",
      "i= 4100\n",
      "i= 4200\n",
      "i= 4300\n",
      "i= 4400\n",
      "i= 4500\n",
      "i= 4600\n",
      "i= 4700\n",
      "i= 4800\n",
      "i= 4900\n",
      "i= 5000\n",
      "i= 5100\n",
      "i= 5200\n",
      "i= 5300\n",
      "i= 5400\n",
      "i= 5500\n",
      "i= 5600\n",
      "i= 5700\n",
      "i= 5800\n",
      "i= 5900\n",
      "i= 6000\n",
      "i= 6100\n",
      "i= 6200\n",
      "i= 6300\n",
      "i= 6400\n",
      "i= 6500\n",
      "i= 6600\n",
      "i= 6700\n",
      "i= 6800\n",
      "i= 6900\n",
      "i= 7000\n",
      "i= 7100\n",
      "i= 7200\n",
      "i= 7300\n",
      "i= 7400\n",
      "i= 7500\n",
      "i= 7600\n",
      "i= 7700\n",
      "i= 7800\n",
      "i= 7900\n",
      "i= 8000\n",
      "i= 8100\n",
      "i= 8200\n",
      "i= 8300\n",
      "i= 8400\n",
      "i= 8500\n",
      "i= 8600\n",
      "i= 8700\n",
      "i= 8800\n",
      "i= 8900\n",
      "i= 9000\n",
      "i= 9100\n",
      "i= 9200\n",
      "i= 9300\n",
      "i= 9400\n",
      "i= 9500\n",
      "i= 9600\n",
      "i= 9700\n",
      "i= 9800\n",
      "i= 9900\n",
      "i= 10000\n",
      "i= 10100\n",
      "i= 10200\n",
      "i= 10300\n",
      "i= 10400\n",
      "i= 10500\n",
      "i= 10600\n",
      "i= 10700\n",
      "i= 10800\n",
      "i= 10900\n",
      "i= 11000\n",
      "i= 11100\n",
      "i= 11200\n",
      "i= 11300\n",
      "i= 11400\n",
      "i= 11500\n",
      "i= 11600\n",
      "i= 11700\n",
      "i= 11800\n",
      "i= 11900\n",
      "i= 12000\n",
      "i= 12100\n",
      "i= 12200\n",
      "i= 12300\n",
      "i= 12400\n",
      "i= 12500\n",
      "i= 12600\n",
      "i= 12700\n",
      "i= 12800\n",
      "i= 12900\n",
      "i= 13000\n",
      "i= 13100\n",
      "i= 13200\n",
      "i= 13300\n",
      "i= 13400\n",
      "i= 13500\n",
      "i= 13600\n",
      "i= 13700\n",
      "i= 13800\n",
      "i= 13900\n",
      "i= 14000\n",
      "i= 14100\n",
      "i= 14200\n",
      "i= 14300\n",
      "i= 14400\n",
      "i= 14500\n",
      "i= 14600\n",
      "i= 14700\n",
      "i= 14800\n",
      "i= 14900\n",
      "i= 15000\n",
      "i= 15100\n",
      "i= 15200\n",
      "i= 15300\n",
      "i= 15400\n",
      "i= 15500\n",
      "i= 15600\n",
      "i= 15700\n",
      "i= 15800\n",
      "i= 15900\n",
      "i= 16000\n",
      "i= 16100\n",
      "i= 16200\n",
      "i= 16300\n",
      "i= 16400\n",
      "i= 16500\n",
      "i= 16600\n",
      "i= 16700\n",
      "i= 16800\n",
      "i= 16900\n",
      "i= 17000\n",
      "i= 17100\n",
      "i= 17200\n",
      "i= 17300\n",
      "i= 17400\n",
      "i= 17500\n",
      "i= 17600\n",
      "i= 17700\n",
      "i= 17800\n",
      "i= 17900\n",
      "i= 18000\n",
      "i= 18100\n",
      "i= 18200\n",
      "i= 18300\n",
      "i= 18400\n",
      "i= 18500\n",
      "i= 18600\n",
      "i= 18700\n",
      "i= 18800\n",
      "i= 18900\n",
      "i= 19000\n",
      "i= 19100\n",
      "i= 19200\n",
      "i= 19300\n",
      "i= 19400\n",
      "i= 19500\n",
      "i= 19600\n",
      "i= 19700\n",
      "i= 19800\n",
      "i= 19900\n",
      "i= 20000\n",
      "i= 20100\n",
      "i= 20200\n",
      "i= 20300\n",
      "i= 20400\n",
      "i= 20500\n",
      "i= 20600\n",
      "i= 20700\n",
      "i= 20800\n",
      "i= 20900\n",
      "i= 21000\n",
      "i= 21100\n",
      "i= 21200\n",
      "i= 21300\n",
      "i= 21400\n",
      "i= 21500\n",
      "i= 21600\n",
      "i= 21700\n",
      "i= 21800\n",
      "[[-0.05102539  0.12060547 -0.01257324 ..., -0.26367188 -0.10742188\n",
      "   0.0222168 ]\n",
      " [ 0.15136719  0.25390625  0.22851562 ..., -0.05908203 -0.10986328\n",
      "   0.06689453]\n",
      " [ 0.12304688  0.01281738  0.01940918 ..., -0.06347656  0.02111816\n",
      "  -0.08251953]\n",
      " ..., \n",
      " [ 0.          0.          0.         ...,  0.          0.          0.        ]\n",
      " [ 0.          0.          0.         ...,  0.          0.          0.        ]\n",
      " [ 0.          0.          0.         ...,  0.          0.          0.        ]]\n",
      "(418, 300)\n"
     ]
    }
   ],
   "source": [
    "import glob\n",
    "list_files = np.array(glob.glob(\"./texts_matrices/*.npz\"))\n",
    "texts_matrices = load(list_files)\n",
    "test_dense_load = sparse.csr_matrix.todense(texts_matrices[0])\n",
    "print(test_dense_load)\n",
    "print(test_dense_load.shape)"
   ]
  },
  {
   "cell_type": "code",
   "execution_count": 11,
   "metadata": {},
   "outputs": [],
   "source": [
    "filename = \"./size_texts.npy\"\n",
    "size_texts = np.load(filename)"
   ]
  },
  {
   "cell_type": "code",
   "execution_count": 12,
   "metadata": {},
   "outputs": [
    {
     "name": "stdout",
     "output_type": "stream",
     "text": [
      "(21848,)\n",
      "[  41.   14.   80. ...,  129.   33.   71.]\n"
     ]
    }
   ],
   "source": [
    "print(size_texts.shape)\n",
    "print(size_texts)"
   ]
  },
  {
   "cell_type": "code",
   "execution_count": 13,
   "metadata": {},
   "outputs": [
    {
     "name": "stdout",
     "output_type": "stream",
     "text": [
      "(21848,)\n"
     ]
    }
   ],
   "source": [
    "print(y_train.shape)"
   ]
  },
  {
   "cell_type": "markdown",
   "metadata": {},
   "source": [
    "# Séparation de X_train, y_train en deux ensembles: un ensemble d'entrainement et un ensemble de validation."
   ]
  },
  {
   "cell_type": "code",
   "execution_count": 14,
   "metadata": {},
   "outputs": [],
   "source": [
    "training_size = 0.7\n",
    "\n",
    "X_train = texts_matrices[0:int(texts_matrices.shape[0]*training_size)]\n",
    "y_train_full = y_train\n",
    "y_train = y_train_full[0:int(texts_matrices.shape[0]*training_size)]\n",
    "size_texts_train = size_texts[0:int(texts_matrices.shape[0]*training_size)]\n",
    "\n",
    "X_val = texts_matrices[int(texts_matrices.shape[0]*training_size):]\n",
    "y_val = y_train_full[int(texts_matrices.shape[0]*training_size):]\n",
    "size_texts_val = size_texts[int(texts_matrices.shape[0]*training_size):]"
   ]
  },
  {
   "cell_type": "markdown",
   "metadata": {},
   "source": [
    "Nombre d'éléments par classe dans l'ensemble d'entrainement:"
   ]
  },
  {
   "cell_type": "code",
   "execution_count": 15,
   "metadata": {},
   "outputs": [
    {
     "name": "stdout",
     "output_type": "stream",
     "text": [
      "[ 6379.  4332.  2968.  1319.   269.    26.]\n"
     ]
    }
   ],
   "source": [
    "nb_texts_per_classe = np.zeros(6)\n",
    "for i in range(y_train.shape[0]):\n",
    "    nb_texts_per_classe[y_train[i]] = nb_texts_per_classe[y_train[i]] + 1\n",
    "print(nb_texts_per_classe)"
   ]
  },
  {
   "cell_type": "markdown",
   "metadata": {},
   "source": [
    "Nombre d'éléments par classe dans l'ensemble de validation:"
   ]
  },
  {
   "cell_type": "code",
   "execution_count": 16,
   "metadata": {
    "scrolled": true
   },
   "outputs": [
    {
     "name": "stdout",
     "output_type": "stream",
     "text": [
      "[0 2 2 ..., 3 0 1]\n",
      "[ 2710.  1818.  1338.   551.   124.    14.]\n"
     ]
    }
   ],
   "source": [
    "print(y_val)\n",
    "nb_texts_per_classe = np.zeros(6)\n",
    "for i in range(y_val.shape[0]):\n",
    "    nb_texts_per_classe[y_val[i]] = nb_texts_per_classe[y_val[i]] + 1\n",
    "print(nb_texts_per_classe)"
   ]
  },
  {
   "cell_type": "markdown",
   "metadata": {},
   "source": [
    "# RNN"
   ]
  },
  {
   "cell_type": "markdown",
   "metadata": {},
   "source": [
    "# Fonction de création et d'entrainement d'un RNN:"
   ]
  },
  {
   "cell_type": "markdown",
   "metadata": {},
   "source": [
    "On commence par définir une fonction pour récupérer les données par lot:"
   ]
  },
  {
   "cell_type": "code",
   "execution_count": 17,
   "metadata": {},
   "outputs": [
    {
     "data": {
      "text/plain": [
       "(3, 418, 300)"
      ]
     },
     "execution_count": 17,
     "metadata": {},
     "output_type": "execute_result"
    }
   ],
   "source": [
    "def get_next_batch(texts_matrices, iteration, batch_size):\n",
    "    size_text = texts_matrices[0].shape[0]\n",
    "    size_word = texts_matrices[0].shape[1]\n",
    "    #print(\"(batch_size, size_text, size_word)=\", batch_size, size_text, size_word)\n",
    "    X_batch = np.zeros((batch_size, size_text, size_word)) \n",
    "    temp1 = texts_matrices[iteration*batch_size:(iteration+1)*batch_size]\n",
    "    for i in range(temp1.shape[0]):\n",
    "        X_batch[i] = np.array(sparse.csr_matrix.todense(temp1[i]))\n",
    "    return X_batch\n",
    "#test\n",
    "temp = get_next_batch(X_train, 0, 3)\n",
    "temp.shape"
   ]
  },
  {
   "cell_type": "markdown",
   "metadata": {},
   "source": [
    "La cellule ci-dessous implémente la fonction d'erreur de la compétition. Malheureusement argmax n'est pas différentiable donc la fonction n'est pas utilisable comme fonction de coût."
   ]
  },
  {
   "cell_type": "code",
   "execution_count": 18,
   "metadata": {},
   "outputs": [],
   "source": [
    "costs_tf = tf.constant([[0,1,2,3,4,6],[1,0,1,4,5,8],[3,2,0,3,5,8],[10,7,5,0,2,7],[20,16,12,4,0,8],[44,38,32,19,13,0]])\n",
    "\n",
    "def cost_tf(inference, y_true):\n",
    "    y_pred = tf.argmax(inference, axis=1) #pas différentiable...\n",
    "    confusion = tf.confusion_matrix(y_true, y_pred, num_classes=6)\n",
    "    res1 = tf.multiply(costs, confusion)\n",
    "    res2 = tf.reduce_sum(res1)\n",
    "    res3 = tf.divide(res2, tf.shape(y_true)[0])\n",
    "    return res3"
   ]
  },
  {
   "cell_type": "code",
   "execution_count": 39,
   "metadata": {},
   "outputs": [],
   "source": [
    "import tensorflow as tf\n",
    "\n",
    "def create_graph_RNN_and_train(X_train, y_train, X_val, y_val, n_steps, n_inputs, n_neurons=500, activation=tf.nn.relu, \n",
    "                               dropout_in=0, dropout_out=0, class_weights=[1, 1, 1, 1, 1, 1], learning_rate=0.001, n_epochs=100, batch_size=200, max_checks_without_progress=3):\n",
    "    \n",
    "    tf.reset_default_graph()\n",
    "    \n",
    "    X = tf.placeholder(tf.float32, shape=[None, n_steps, n_inputs], name=\"X\")\n",
    "    seq_length = tf.placeholder(tf.int32, [None]) #vecteur avec les nombres de mots dans les textes\n",
    "    y = tf.placeholder(tf.int64, shape=[None], name=\"y\")\n",
    "\n",
    "    dropout_in_placeholder = tf.placeholder_with_default(tf.constant(0.0, dtype=tf.float32), ())\n",
    "    dropout_out_placeholder = tf.placeholder_with_default(tf.constant(0.0, dtype=tf.float32), ())\n",
    "\n",
    "    basic_cell = tf.contrib.rnn.GRUCell(num_units=n_neurons, activation=activation)\n",
    "    basic_cell = tf.contrib.rnn.DropoutWrapper(basic_cell, input_keep_prob=1-dropout_in_placeholder, output_keep_prob=1-dropout_out_placeholder)\n",
    "    outputs, states = tf.nn.dynamic_rnn(basic_cell, X, sequence_length=seq_length, dtype=tf.float32)\n",
    "\n",
    "    logits = tf.layers.dense(inputs=states, units=n_outputs, name=\"logits\")\n",
    "    inference = tf.nn.softmax(logits, name=\"inference\")\n",
    "\n",
    "    with tf.name_scope(\"loss\"):\n",
    "        #loss = cost(inference, y)\n",
    "\n",
    "        class_weights_tf = tf.constant(class_weights)\n",
    "        weights = tf.gather(class_weights_tf, y)\n",
    "        xentropy = tf.losses.sparse_softmax_cross_entropy(labels=y, logits=logits, weights=weights)\n",
    "        #xentropy = tf.nn.sparse_softmax_cross_entropy_with_logits(logits=logits, labels=y) #ancienne version (sans poids)\n",
    "        loss = tf.reduce_mean(xentropy, name=\"loss\")\n",
    "\n",
    "    with tf.name_scope(\"train\"):\n",
    "        optimizer = tf.train.AdamOptimizer(learning_rate=learning_rate)\n",
    "        training_op = optimizer.minimize(loss)\n",
    "\n",
    "    with tf.name_scope(\"eval\"):\n",
    "        correct = tf.nn.in_top_k(logits, y, 1)\n",
    "        accuracy = tf.reduce_mean(tf.cast(correct, tf.float32))\n",
    "\n",
    "    summary_writer = tf.summary.FileWriter(\"./summary\", tf.get_default_graph())\n",
    "\n",
    "    init = tf.global_variables_initializer()\n",
    "    saver = tf.train.Saver()\n",
    "    \n",
    "    n_batches_per_epoch = X_train.shape[0] // batch_size\n",
    "    print(\"Nombre de batchs par epoch =\", n_batches_per_epoch)\n",
    "    \n",
    "    best_loss = np.infty\n",
    "    checks_without_progress = 0\n",
    "    \n",
    "    with tf.Session() as sess:\n",
    "        init.run()\n",
    "        for epoch in range(n_epochs):\n",
    "            for iteration in range(n_batches_per_epoch):\n",
    "                if (iteration+1)%10==0:\n",
    "                    print(\"Batch n°\", iteration+1)\n",
    "                X_batch = get_next_batch(X_train, iteration, batch_size)\n",
    "                y_batch = y_train[iteration*batch_size:(iteration+1)*batch_size]\n",
    "\n",
    "                sess.run(training_op, feed_dict={X: X_batch, y: y_batch, seq_length: size_texts_train[iteration*batch_size:(iteration+1)*batch_size], dropout_in_placeholder: dropout_in, dropout_out_placeholder: dropout_out})\n",
    "\n",
    "            #fonction de coût sur les 5000 premiers textes d'entrainement (pour que ça tienne dans la mémoire vive)\n",
    "            nb_training_examples = 5000\n",
    "            if X_train.shape[0] < nb_training_examples:\n",
    "                nb_training_examples = X_train.shape[0]\n",
    "            loss_train = loss.eval(feed_dict={X: get_next_batch(X_train[0:nb_training_examples], 0, nb_training_examples), y: y_train[0:nb_training_examples], seq_length: size_texts_train[0:nb_training_examples]})\n",
    "            loss_val = loss.eval(feed_dict={X: get_next_batch(X_val, 0, X_val.shape[0]), y: y_val, seq_length: size_texts_val[0:X_val.shape[0]]})\n",
    "            print(epoch, \"Loss training:\", loss_train)\n",
    "            print(epoch, \"Loss validation:\", loss_val)\n",
    "\n",
    "            if loss_val < best_loss:\n",
    "                save_path = saver.save(sess, \"./natural_language_classifier.ckpt\")\n",
    "                best_loss = loss_val\n",
    "                checks_without_progress = 0\n",
    "            else:\n",
    "                checks_without_progress += 1\n",
    "                if checks_without_progress >= MAX_CHECKS_WITHOUT_PROGRESS:\n",
    "                    print(\"Early stopping!\")\n",
    "                    break\n",
    "    return inference, X, seq_length"
   ]
  },
  {
   "cell_type": "markdown",
   "metadata": {},
   "source": [
    "# Entrainement avec l'ensemble des données d'entrainement"
   ]
  },
  {
   "cell_type": "code",
   "execution_count": 20,
   "metadata": {},
   "outputs": [
    {
     "name": "stdout",
     "output_type": "stream",
     "text": [
      "Nombre de mots des textes (fixe) = 418\n",
      "Taille vecteur d'un mot = 300\n"
     ]
    }
   ],
   "source": [
    "n_steps = X_train[0].shape[0] #taille des textes (rendue fixe)\n",
    "n_inputs = X_train[0].shape[1] #taille des vecteurs représentant chaque mot\n",
    "print(\"Nombre de mots des textes (fixe) =\", n_steps)\n",
    "print(\"Taille vecteur d'un mot =\", n_inputs)\n",
    "n_neurons = 500\n",
    "activation = tf.nn.relu\n",
    "n_outputs = 6\n",
    "class_weights = [1, 1, 1, 1, 1, 1] #poids de la fonction de coût\n",
    "learning_rate = 0.001\n",
    "\n",
    "n_epochs = 100\n",
    "batch_size = 200\n",
    "\n",
    "MAX_CHECKS_WITHOUT_PROGRESS = 3"
   ]
  },
  {
   "cell_type": "code",
   "execution_count": 21,
   "metadata": {},
   "outputs": [
    {
     "name": "stdout",
     "output_type": "stream",
     "text": [
      "Nombre de batchs par epoch = 76\n",
      "Batch n° 10\n",
      "Batch n° 20\n",
      "Batch n° 30\n",
      "Batch n° 40\n",
      "Batch n° 50\n",
      "Batch n° 60\n",
      "Batch n° 70\n",
      "0 Loss training: 0.610982\n",
      "0 Loss validation: 0.630371\n",
      "Batch n° 10\n",
      "Batch n° 20\n",
      "Batch n° 30\n",
      "Batch n° 40\n",
      "Batch n° 50\n",
      "Batch n° 60\n",
      "Batch n° 70\n",
      "1 Loss training: 0.452072\n",
      "1 Loss validation: 0.486627\n",
      "Batch n° 10\n",
      "Batch n° 20\n",
      "Batch n° 30\n",
      "Batch n° 40\n",
      "Batch n° 50\n",
      "Batch n° 60\n",
      "Batch n° 70\n",
      "2 Loss training: 0.328646\n",
      "2 Loss validation: 0.375238\n",
      "Batch n° 10\n",
      "Batch n° 20\n",
      "Batch n° 30\n",
      "Batch n° 40\n",
      "Batch n° 50\n",
      "Batch n° 60\n",
      "Batch n° 70\n",
      "3 Loss training: 0.290011\n",
      "3 Loss validation: 0.355088\n",
      "Batch n° 10\n",
      "Batch n° 20\n",
      "Batch n° 30\n",
      "Batch n° 40\n",
      "Batch n° 50\n",
      "Batch n° 60\n",
      "Batch n° 70\n",
      "4 Loss training: 0.182437\n",
      "4 Loss validation: 0.276897\n",
      "Batch n° 10\n",
      "Batch n° 20\n",
      "Batch n° 30\n",
      "Batch n° 40\n",
      "Batch n° 50\n",
      "Batch n° 60\n",
      "Batch n° 70\n",
      "5 Loss training: 0.187664\n",
      "5 Loss validation: 0.314224\n",
      "Batch n° 10\n",
      "Batch n° 20\n",
      "Batch n° 30\n",
      "Batch n° 40\n",
      "Batch n° 50\n",
      "Batch n° 60\n",
      "Batch n° 70\n",
      "6 Loss training: 0.119885\n",
      "6 Loss validation: 0.266472\n",
      "Batch n° 10\n",
      "Batch n° 20\n",
      "Batch n° 30\n",
      "Batch n° 40\n",
      "Batch n° 50\n",
      "Batch n° 60\n",
      "Batch n° 70\n",
      "7 Loss training: 0.111559\n",
      "7 Loss validation: 0.277406\n",
      "Batch n° 10\n",
      "Batch n° 20\n",
      "Batch n° 30\n",
      "Batch n° 40\n",
      "Batch n° 50\n",
      "Batch n° 60\n",
      "Batch n° 70\n",
      "8 Loss training: 0.095161\n",
      "8 Loss validation: 0.286619\n",
      "Batch n° 10\n",
      "Batch n° 20\n",
      "Batch n° 30\n",
      "Batch n° 40\n",
      "Batch n° 50\n",
      "Batch n° 60\n",
      "Batch n° 70\n",
      "9 Loss training: 0.0890583\n",
      "9 Loss validation: 0.312098\n",
      "Early stopping!\n"
     ]
    }
   ],
   "source": [
    "inference, X, seq_length = create_graph_RNN_and_train(X_train, y_train, X_val, y_val, n_steps, n_inputs, n_neurons=n_neurons, activation=activation, class_weights=class_weights,\n",
    "                           learning_rate=learning_rate, n_epochs=n_epochs, batch_size=batch_size, max_checks_without_progress=MAX_CHECKS_WITHOUT_PROGRESS)"
   ]
  },
  {
   "cell_type": "markdown",
   "metadata": {
    "collapsed": true
   },
   "source": [
    "# Mesure de l'erreur"
   ]
  },
  {
   "cell_type": "code",
   "execution_count": 22,
   "metadata": {},
   "outputs": [],
   "source": [
    "costs = np.array([[0,1,2,3,4,6],[1,0,1,4,5,8],[3,2,0,3,5,8],[10,7,5,0,2,7],[20,16,12,4,0,8],[44,38,32,19,13,0]])\n",
    "names = ['A1', 'A2', 'B1', 'B2', 'C1', 'C2']"
   ]
  },
  {
   "cell_type": "code",
   "execution_count": 23,
   "metadata": {},
   "outputs": [],
   "source": [
    "import matplotlib.pyplot as plt\n",
    "import itertools\n",
    "\n",
    "def plot_confusion_matrix(cm, classes=['A1', 'A2', 'B1', 'B2', 'C1', 'C2'],\n",
    "                          normalize=False,\n",
    "                          title='Confusion matrix',\n",
    "                          cmap=plt.cm.Blues):\n",
    "    \"\"\"\n",
    "    This function prints and plots the confusion matrix.\n",
    "    Normalization can be applied by setting `normalize=True`.\n",
    "    \"\"\"\n",
    "    if normalize:\n",
    "        cm = cm.astype('float') / cm.sum(axis=1)[:, np.newaxis]\n",
    "        print(\"Normalized confusion matrix\")\n",
    "    else:\n",
    "        print('Confusion matrix, without normalization')\n",
    "\n",
    "    print(cm)\n",
    "\n",
    "    plt.imshow(cm, interpolation='nearest', cmap=cmap)\n",
    "    plt.title(title)\n",
    "    plt.colorbar()\n",
    "    tick_marks = np.arange(len(classes))\n",
    "    plt.xticks(tick_marks, classes, rotation=45)\n",
    "    plt.yticks(tick_marks, classes)\n",
    "\n",
    "    fmt = '.2f' if normalize else 'd'\n",
    "    thresh = cm.max() / 2.\n",
    "    for i, j in itertools.product(range(cm.shape[0]), range(cm.shape[1])):\n",
    "        plt.text(j, i, format(cm[i, j], fmt),\n",
    "                 horizontalalignment=\"center\",\n",
    "                 color=\"white\" if cm[i, j] > thresh else \"black\")\n",
    "\n",
    "    plt.tight_layout()\n",
    "    plt.ylabel('True label')\n",
    "    plt.xlabel('Predicted label')"
   ]
  },
  {
   "cell_type": "code",
   "execution_count": 24,
   "metadata": {},
   "outputs": [],
   "source": [
    "from sklearn.metrics import confusion_matrix\n",
    "print_confusion = True\n",
    "def cost(y_pred, y_true, normalize=True):\n",
    "    confusion = confusion_matrix(y_true, y_pred)\n",
    "    res = (1/y_true.shape[0]) * np.sum(np.multiply(costs, confusion))\n",
    "    \n",
    "    if print_confusion:\n",
    "        # Compute confusion matrix\n",
    "        cnf_matrix = confusion_matrix(y_true, y_pred)\n",
    "        np.set_printoptions(precision=2)\n",
    "\n",
    "        # Plot normalized confusion matrix\n",
    "        plt.figure()\n",
    "        plot_confusion_matrix(cnf_matrix, normalize=normalize, title='Normalized confusion matrix')\n",
    "\n",
    "        plt.show()\n",
    "    return res"
   ]
  },
  {
   "cell_type": "markdown",
   "metadata": {},
   "source": [
    "Matrice de confusion + erreur pour l'ensemble de validation"
   ]
  },
  {
   "cell_type": "code",
   "execution_count": 25,
   "metadata": {},
   "outputs": [
    {
     "name": "stdout",
     "output_type": "stream",
     "text": [
      "INFO:tensorflow:Restoring parameters from ./natural_language_classifier.ckpt\n",
      "Normalized confusion matrix\n",
      "[[  9.52e-01   3.47e-02   1.03e-02   2.95e-03   3.69e-04   0.00e+00]\n",
      " [  2.59e-02   8.98e-01   6.33e-02   1.21e-02   1.10e-03   0.00e+00]\n",
      " [  1.05e-02   2.09e-02   9.27e-01   3.89e-02   2.99e-03   0.00e+00]\n",
      " [  3.63e-03   2.18e-02   9.98e-02   8.58e-01   1.63e-02   0.00e+00]\n",
      " [  1.61e-02   3.23e-02   1.05e-01   3.63e-01   4.84e-01   0.00e+00]\n",
      " [  7.14e-02   7.14e-02   0.00e+00   6.43e-01   2.14e-01   0.00e+00]]\n"
     ]
    },
    {
     "data": {
      "image/png": "[encoded data removed]",
      "text/plain": [
       "<matplotlib.figure.Figure at 0x7fb846135fd0>"
      ]
     },
     "metadata": {},
     "output_type": "display_data"
    },
    {
     "name": "stdout",
     "output_type": "stream",
     "text": [
      "0.280854309687\n"
     ]
    }
   ],
   "source": [
    "print_confusion = True\n",
    "\n",
    "saver = tf.train.Saver()\n",
    "with tf.Session() as sess:\n",
    "    saver.restore(sess, \"./natural_language_classifier.ckpt\")\n",
    "    res = sess.run(inference, feed_dict={X: get_next_batch(X_val, 0, X_val.shape[0]), seq_length: size_texts_val})\n",
    "    y_pred = np.argmax(res, axis=1)\n",
    "\n",
    "print(cost(y_pred, y_val))"
   ]
  },
  {
   "cell_type": "markdown",
   "metadata": {},
   "source": [
    "# Entrainement d'un deuxième réseau mais avec des poids pour la fonction de coût"
   ]
  },
  {
   "cell_type": "markdown",
   "metadata": {},
   "source": [
    "Les poids sont calculés par rapport à la répartition des effectifs des classes dans l'ensemble des données de la compétition."
   ]
  },
  {
   "cell_type": "code",
   "execution_count": 26,
   "metadata": {},
   "outputs": [],
   "source": [
    "class_weights = [1, 1.48, 2.11, 4.86, 23.14, 227.22] #poids de la fonction de coût"
   ]
  },
  {
   "cell_type": "code",
   "execution_count": 27,
   "metadata": {
    "scrolled": true
   },
   "outputs": [
    {
     "name": "stdout",
     "output_type": "stream",
     "text": [
      "Nombre de batchs par epoch = 76\n",
      "Batch n° 10\n",
      "Batch n° 20\n",
      "Batch n° 30\n",
      "Batch n° 40\n",
      "Batch n° 50\n",
      "Batch n° 60\n",
      "Batch n° 70\n",
      "0 Loss training: 4.18642\n",
      "0 Loss validation: 4.23027\n",
      "Batch n° 10\n",
      "Batch n° 20\n",
      "Batch n° 30\n",
      "Batch n° 40\n",
      "Batch n° 50\n",
      "Batch n° 60\n",
      "Batch n° 70\n",
      "1 Loss training: 2.78376\n",
      "1 Loss validation: 2.92574\n",
      "Batch n° 10\n",
      "Batch n° 20\n",
      "Batch n° 30\n",
      "Batch n° 40\n",
      "Batch n° 50\n",
      "Batch n° 60\n",
      "Batch n° 70\n",
      "2 Loss training: 2.21989\n",
      "2 Loss validation: 2.60208\n",
      "Batch n° 10\n",
      "Batch n° 20\n",
      "Batch n° 30\n",
      "Batch n° 40\n",
      "Batch n° 50\n",
      "Batch n° 60\n",
      "Batch n° 70\n",
      "3 Loss training: 1.72744\n",
      "3 Loss validation: 2.33075\n",
      "Batch n° 10\n",
      "Batch n° 20\n",
      "Batch n° 30\n",
      "Batch n° 40\n",
      "Batch n° 50\n",
      "Batch n° 60\n",
      "Batch n° 70\n",
      "4 Loss training: 1.3587\n",
      "4 Loss validation: 2.37909\n",
      "Batch n° 10\n",
      "Batch n° 20\n",
      "Batch n° 30\n",
      "Batch n° 40\n",
      "Batch n° 50\n",
      "Batch n° 60\n",
      "Batch n° 70\n",
      "5 Loss training: 1.1485\n",
      "5 Loss validation: 2.5439\n",
      "Batch n° 10\n",
      "Batch n° 20\n",
      "Batch n° 30\n",
      "Batch n° 40\n",
      "Batch n° 50\n",
      "Batch n° 60\n",
      "Batch n° 70\n",
      "6 Loss training: 0.799327\n",
      "6 Loss validation: 2.53891\n",
      "Early stopping!\n"
     ]
    }
   ],
   "source": [
    "inference, X, seq_length = create_graph_RNN_and_train(X_train, y_train, X_val, y_val, n_steps, n_inputs, n_neurons=n_neurons, activation=activation, class_weights=class_weights,\n",
    "                           learning_rate=learning_rate, n_epochs=n_epochs, batch_size=batch_size, max_checks_without_progress=MAX_CHECKS_WITHOUT_PROGRESS)"
   ]
  },
  {
   "cell_type": "code",
   "execution_count": 28,
   "metadata": {},
   "outputs": [
    {
     "name": "stdout",
     "output_type": "stream",
     "text": [
      "INFO:tensorflow:Restoring parameters from ./natural_language_classifier.ckpt\n",
      "Normalized confusion matrix\n",
      "[[ 0.9   0.08  0.01  0.01  0.    0.  ]\n",
      " [ 0.09  0.82  0.08  0.01  0.    0.  ]\n",
      " [ 0.02  0.14  0.69  0.11  0.01  0.03]\n",
      " [ 0.01  0.03  0.13  0.56  0.1   0.18]\n",
      " [ 0.    0.02  0.09  0.19  0.35  0.34]\n",
      " [ 0.07  0.    0.    0.21  0.21  0.5 ]]\n"
     ]
    },
    {
     "data": {
      "image/png": "[encoded data removed]",
      "text/plain": [
       "<matplotlib.figure.Figure at 0x7fb8462291d0>"
      ]
     },
     "metadata": {},
     "output_type": "display_data"
    },
    {
     "name": "stdout",
     "output_type": "stream",
     "text": [
      "0.639511823036\n"
     ]
    }
   ],
   "source": [
    "print_confusion = True\n",
    "\n",
    "saver = tf.train.Saver()\n",
    "with tf.Session() as sess:\n",
    "    saver.restore(sess, \"./natural_language_classifier.ckpt\")\n",
    "    res = sess.run(inference, feed_dict={X: get_next_batch(X_val, 0, X_val.shape[0]), seq_length: size_texts_val})\n",
    "    y_pred = np.argmax(res, axis=1)\n",
    "\n",
    "print(cost(y_pred, y_val))"
   ]
  },
  {
   "cell_type": "code",
   "execution_count": 29,
   "metadata": {},
   "outputs": [],
   "source": [
    "class_weights = [1, 1.48, 2.11, 4.86, 23.14, 50] #poids de la fonction de coût"
   ]
  },
  {
   "cell_type": "code",
   "execution_count": 30,
   "metadata": {
    "scrolled": true
   },
   "outputs": [
    {
     "name": "stdout",
     "output_type": "stream",
     "text": [
      "Nombre de batchs par epoch = 76\n",
      "Batch n° 10\n",
      "Batch n° 20\n",
      "Batch n° 30\n",
      "Batch n° 40\n",
      "Batch n° 50\n",
      "Batch n° 60\n",
      "Batch n° 70\n",
      "0 Loss training: 2.24097\n",
      "0 Loss validation: 2.20897\n",
      "Batch n° 10\n",
      "Batch n° 20\n",
      "Batch n° 30\n",
      "Batch n° 40\n",
      "Batch n° 50\n",
      "Batch n° 60\n",
      "Batch n° 70\n",
      "1 Loss training: 1.78795\n",
      "1 Loss validation: 1.87964\n",
      "Batch n° 10\n",
      "Batch n° 20\n",
      "Batch n° 30\n",
      "Batch n° 40\n",
      "Batch n° 50\n",
      "Batch n° 60\n",
      "Batch n° 70\n",
      "2 Loss training: 1.47253\n",
      "2 Loss validation: 1.65873\n",
      "Batch n° 10\n",
      "Batch n° 20\n",
      "Batch n° 30\n",
      "Batch n° 40\n",
      "Batch n° 50\n",
      "Batch n° 60\n",
      "Batch n° 70\n",
      "3 Loss training: 1.2893\n",
      "3 Loss validation: 1.53292\n",
      "Batch n° 10\n",
      "Batch n° 20\n",
      "Batch n° 30\n",
      "Batch n° 40\n",
      "Batch n° 50\n",
      "Batch n° 60\n",
      "Batch n° 70\n",
      "4 Loss training: 0.985905\n",
      "4 Loss validation: 1.36603\n",
      "Batch n° 10\n",
      "Batch n° 20\n",
      "Batch n° 30\n",
      "Batch n° 40\n",
      "Batch n° 50\n",
      "Batch n° 60\n",
      "Batch n° 70\n",
      "5 Loss training: 0.742715\n",
      "5 Loss validation: 1.30801\n",
      "Batch n° 10\n",
      "Batch n° 20\n",
      "Batch n° 30\n",
      "Batch n° 40\n",
      "Batch n° 50\n",
      "Batch n° 60\n",
      "Batch n° 70\n",
      "6 Loss training: 1.16881\n",
      "6 Loss validation: 1.77742\n",
      "Batch n° 10\n",
      "Batch n° 20\n",
      "Batch n° 30\n",
      "Batch n° 40\n",
      "Batch n° 50\n",
      "Batch n° 60\n",
      "Batch n° 70\n",
      "7 Loss training: 0.491818\n",
      "7 Loss validation: 1.29253\n",
      "Batch n° 10\n",
      "Batch n° 20\n",
      "Batch n° 30\n",
      "Batch n° 40\n",
      "Batch n° 50\n",
      "Batch n° 60\n",
      "Batch n° 70\n",
      "8 Loss training: 0.303764\n",
      "8 Loss validation: 1.33709\n",
      "Batch n° 10\n",
      "Batch n° 20\n",
      "Batch n° 30\n",
      "Batch n° 40\n",
      "Batch n° 50\n",
      "Batch n° 60\n",
      "Batch n° 70\n",
      "9 Loss training: 0.298618\n",
      "9 Loss validation: 1.40996\n",
      "Batch n° 10\n",
      "Batch n° 20\n",
      "Batch n° 30\n",
      "Batch n° 40\n",
      "Batch n° 50\n",
      "Batch n° 60\n",
      "Batch n° 70\n",
      "10 Loss training: 0.241727\n",
      "10 Loss validation: 1.48574\n",
      "Early stopping!\n"
     ]
    }
   ],
   "source": [
    "inference, X, seq_length = create_graph_RNN_and_train(X_train, y_train, X_val, y_val, n_steps, n_inputs, n_neurons=n_neurons, activation=activation, class_weights=class_weights,\n",
    "                           learning_rate=learning_rate, n_epochs=n_epochs, batch_size=batch_size, max_checks_without_progress=MAX_CHECKS_WITHOUT_PROGRESS)"
   ]
  },
  {
   "cell_type": "code",
   "execution_count": 31,
   "metadata": {},
   "outputs": [
    {
     "name": "stdout",
     "output_type": "stream",
     "text": [
      "INFO:tensorflow:Restoring parameters from ./natural_language_classifier.ckpt\n",
      "Normalized confusion matrix\n",
      "[[  9.39e-01   4.39e-02   9.96e-03   3.32e-03   3.32e-03   0.00e+00]\n",
      " [  5.56e-02   8.92e-01   4.07e-02   9.35e-03   2.20e-03   5.50e-04]\n",
      " [  1.27e-02   6.58e-02   8.10e-01   8.45e-02   2.32e-02   3.74e-03]\n",
      " [  3.63e-03   2.00e-02   8.35e-02   8.33e-01   5.81e-02   1.81e-03]\n",
      " [  0.00e+00   4.03e-02   4.84e-02   9.68e-02   8.06e-01   8.06e-03]\n",
      " [  7.14e-02   0.00e+00   7.14e-02   2.14e-01   4.29e-01   2.14e-01]]\n"
     ]
    },
    {
     "data": {
      "image/png": "[encoded data removed]",
      "text/plain": [
       "<matplotlib.figure.Figure at 0x7fb8459e6828>"
      ]
     },
     "metadata": {},
     "output_type": "display_data"
    },
    {
     "name": "stdout",
     "output_type": "stream",
     "text": [
      "0.318077803204\n"
     ]
    }
   ],
   "source": [
    "print_confusion = True\n",
    "\n",
    "saver = tf.train.Saver()\n",
    "with tf.Session() as sess:\n",
    "    saver.restore(sess, \"./natural_language_classifier.ckpt\")\n",
    "    res = sess.run(inference, feed_dict={X: get_next_batch(X_val, 0, X_val.shape[0]), seq_length: size_texts_val})\n",
    "    y_pred = np.argmax(res, axis=1)\n",
    "\n",
    "print(cost(y_pred, y_val))"
   ]
  },
  {
   "cell_type": "markdown",
   "metadata": {},
   "source": [
    "# Dropout"
   ]
  },
  {
   "cell_type": "code",
   "execution_count": 32,
   "metadata": {},
   "outputs": [
    {
     "name": "stdout",
     "output_type": "stream",
     "text": [
      "Nombre de mots des textes (fixe) = 418\n",
      "Taille vecteur d'un mot = 300\n"
     ]
    }
   ],
   "source": [
    "n_steps = X_train[0].shape[0] #taille des textes (rendue fixe)\n",
    "n_inputs = X_train[0].shape[1] #taille des vecteurs représentant chaque mot\n",
    "print(\"Nombre de mots des textes (fixe) =\", n_steps)\n",
    "print(\"Taille vecteur d'un mot =\", n_inputs)\n",
    "n_neurons = 500\n",
    "activation = tf.nn.relu\n",
    "dropout_in = 0.5\n",
    "dropout_out = 0.5\n",
    "\n",
    "n_outputs = 6\n",
    "class_weights = [1, 1, 1, 1, 1, 1] #poids de la fonction de coût\n",
    "learning_rate = 0.001\n",
    "\n",
    "n_epochs = 100\n",
    "batch_size = 200\n",
    "\n",
    "MAX_CHECKS_WITHOUT_PROGRESS = 3"
   ]
  },
  {
   "cell_type": "code",
   "execution_count": 33,
   "metadata": {},
   "outputs": [
    {
     "name": "stdout",
     "output_type": "stream",
     "text": [
      "Nombre de batchs par epoch = 76\n",
      "Batch n° 10\n",
      "Batch n° 20\n",
      "Batch n° 30\n",
      "Batch n° 40\n",
      "Batch n° 50\n",
      "Batch n° 60\n",
      "Batch n° 70\n",
      "0 Loss training: 0.718625\n",
      "0 Loss validation: 0.73368\n",
      "Batch n° 10\n",
      "Batch n° 20\n",
      "Batch n° 30\n",
      "Batch n° 40\n",
      "Batch n° 50\n",
      "Batch n° 60\n",
      "Batch n° 70\n",
      "1 Loss training: 0.596148\n",
      "1 Loss validation: 0.619066\n",
      "Batch n° 10\n",
      "Batch n° 20\n",
      "Batch n° 30\n",
      "Batch n° 40\n",
      "Batch n° 50\n",
      "Batch n° 60\n",
      "Batch n° 70\n",
      "2 Loss training: 0.471474\n",
      "2 Loss validation: 0.506758\n",
      "Batch n° 10\n",
      "Batch n° 20\n",
      "Batch n° 30\n",
      "Batch n° 40\n",
      "Batch n° 50\n",
      "Batch n° 60\n",
      "Batch n° 70\n",
      "3 Loss training: 0.324939\n",
      "3 Loss validation: 0.369735\n",
      "Batch n° 10\n",
      "Batch n° 20\n",
      "Batch n° 30\n",
      "Batch n° 40\n",
      "Batch n° 50\n",
      "Batch n° 60\n",
      "Batch n° 70\n",
      "4 Loss training: 0.30705\n",
      "4 Loss validation: 0.35888\n",
      "Batch n° 10\n",
      "Batch n° 20\n",
      "Batch n° 30\n",
      "Batch n° 40\n",
      "Batch n° 50\n",
      "Batch n° 60\n",
      "Batch n° 70\n",
      "5 Loss training: 0.237563\n",
      "5 Loss validation: 0.301265\n",
      "Batch n° 10\n",
      "Batch n° 20\n",
      "Batch n° 30\n",
      "Batch n° 40\n",
      "Batch n° 50\n",
      "Batch n° 60\n",
      "Batch n° 70\n",
      "6 Loss training: 0.199817\n",
      "6 Loss validation: 0.271088\n",
      "Batch n° 10\n",
      "Batch n° 20\n",
      "Batch n° 30\n",
      "Batch n° 40\n",
      "Batch n° 50\n",
      "Batch n° 60\n",
      "Batch n° 70\n",
      "7 Loss training: 0.195437\n",
      "7 Loss validation: 0.278538\n",
      "Batch n° 10\n",
      "Batch n° 20\n",
      "Batch n° 30\n",
      "Batch n° 40\n",
      "Batch n° 50\n",
      "Batch n° 60\n",
      "Batch n° 70\n",
      "8 Loss training: 0.19147\n",
      "8 Loss validation: 0.276833\n",
      "Batch n° 10\n",
      "Batch n° 20\n",
      "Batch n° 30\n",
      "Batch n° 40\n",
      "Batch n° 50\n",
      "Batch n° 60\n",
      "Batch n° 70\n",
      "9 Loss training: 0.149273\n",
      "9 Loss validation: 0.244368\n",
      "Batch n° 10\n",
      "Batch n° 20\n",
      "Batch n° 30\n",
      "Batch n° 40\n",
      "Batch n° 50\n",
      "Batch n° 60\n",
      "Batch n° 70\n",
      "10 Loss training: 0.136103\n",
      "10 Loss validation: 0.245006\n",
      "Batch n° 10\n",
      "Batch n° 20\n",
      "Batch n° 30\n",
      "Batch n° 40\n",
      "Batch n° 50\n",
      "Batch n° 60\n",
      "Batch n° 70\n",
      "11 Loss training: 0.107373\n",
      "11 Loss validation: 0.228213\n",
      "Batch n° 10\n",
      "Batch n° 20\n",
      "Batch n° 30\n",
      "Batch n° 40\n",
      "Batch n° 50\n",
      "Batch n° 60\n",
      "Batch n° 70\n",
      "12 Loss training: 0.0878711\n",
      "12 Loss validation: 0.201316\n",
      "Batch n° 10\n",
      "Batch n° 20\n",
      "Batch n° 30\n",
      "Batch n° 40\n",
      "Batch n° 50\n",
      "Batch n° 60\n",
      "Batch n° 70\n",
      "13 Loss training: 0.0826648\n",
      "13 Loss validation: 0.214592\n",
      "Batch n° 10\n",
      "Batch n° 20\n",
      "Batch n° 30\n",
      "Batch n° 40\n",
      "Batch n° 50\n",
      "Batch n° 60\n",
      "Batch n° 70\n",
      "14 Loss training: 0.0713477\n",
      "14 Loss validation: 0.204763\n",
      "Batch n° 10\n",
      "Batch n° 20\n",
      "Batch n° 30\n",
      "Batch n° 40\n",
      "Batch n° 50\n",
      "Batch n° 60\n",
      "Batch n° 70\n",
      "15 Loss training: 0.0665665\n",
      "15 Loss validation: 0.215779\n",
      "Early stopping!\n"
     ]
    }
   ],
   "source": [
    "inference, X, seq_length = create_graph_RNN_and_train(X_train, y_train, X_val, y_val, n_steps, n_inputs, n_neurons=n_neurons, activation=activation, \n",
    "                                                      dropout_in=dropout_in, dropout_out=dropout_out, class_weights=class_weights, learning_rate=learning_rate, n_epochs=n_epochs, batch_size=batch_size, max_checks_without_progress=MAX_CHECKS_WITHOUT_PROGRESS)\n"
   ]
  },
  {
   "cell_type": "code",
   "execution_count": 34,
   "metadata": {},
   "outputs": [
    {
     "name": "stdout",
     "output_type": "stream",
     "text": [
      "INFO:tensorflow:Restoring parameters from ./natural_language_classifier.ckpt\n",
      "Normalized confusion matrix\n",
      "[[  9.67e-01   2.10e-02   9.59e-03   1.48e-03   1.11e-03   0.00e+00]\n",
      " [  2.92e-02   9.28e-01   3.52e-02   7.15e-03   5.50e-04   0.00e+00]\n",
      " [  1.64e-02   2.09e-02   9.25e-01   3.14e-02   5.98e-03   0.00e+00]\n",
      " [  1.81e-03   1.27e-02   9.80e-02   8.38e-01   4.90e-02   0.00e+00]\n",
      " [  2.42e-02   5.65e-02   6.45e-02   1.13e-01   7.42e-01   0.00e+00]\n",
      " [  1.43e-01   0.00e+00   0.00e+00   2.14e-01   6.43e-01   0.00e+00]]\n"
     ]
    },
    {
     "data": {
      "image/png": "[encoded data removed]",
      "text/plain": [
       "<matplotlib.figure.Figure at 0x7fb88b77b320>"
      ]
     },
     "metadata": {},
     "output_type": "display_data"
    },
    {
     "name": "stdout",
     "output_type": "stream",
     "text": [
      "0.238596491228\n"
     ]
    }
   ],
   "source": [
    "print_confusion = True\n",
    "\n",
    "saver = tf.train.Saver()\n",
    "with tf.Session() as sess:\n",
    "    saver.restore(sess, \"./natural_language_classifier.ckpt\")\n",
    "    res = sess.run(inference, feed_dict={X: get_next_batch(X_val, 0, X_val.shape[0]), seq_length: size_texts_val})\n",
    "    y_pred = np.argmax(res, axis=1)\n",
    "\n",
    "print(cost(y_pred, y_val))"
   ]
  },
  {
   "cell_type": "markdown",
   "metadata": {},
   "source": [
    "# Dropout + plus de neurones"
   ]
  },
  {
   "cell_type": "code",
   "execution_count": 40,
   "metadata": {},
   "outputs": [
    {
     "name": "stdout",
     "output_type": "stream",
     "text": [
      "Nombre de mots des textes (fixe) = 418\n",
      "Taille vecteur d'un mot = 300\n"
     ]
    }
   ],
   "source": [
    "n_steps = X_train[0].shape[0] #taille des textes (rendue fixe)\n",
    "n_inputs = X_train[0].shape[1] #taille des vecteurs représentant chaque mot\n",
    "print(\"Nombre de mots des textes (fixe) =\", n_steps)\n",
    "print(\"Taille vecteur d'un mot =\", n_inputs)\n",
    "n_neurons = 1000\n",
    "activation = tf.nn.relu\n",
    "dropout_in = 0.5\n",
    "dropout_out = 0.5\n",
    "\n",
    "n_outputs = 6\n",
    "class_weights = [1, 1, 1, 1, 1, 1] #poids de la fonction de coût\n",
    "learning_rate = 0.001\n",
    "\n",
    "n_epochs = 100\n",
    "batch_size = 200\n",
    "\n",
    "MAX_CHECKS_WITHOUT_PROGRESS = 3"
   ]
  },
  {
   "cell_type": "code",
   "execution_count": null,
   "metadata": {},
   "outputs": [
    {
     "name": "stdout",
     "output_type": "stream",
     "text": [
      "Nombre de batchs par epoch = 76\n",
      "Batch n° 10\n",
      "Batch n° 20\n",
      "Batch n° 30\n",
      "Batch n° 40\n",
      "Batch n° 50\n",
      "Batch n° 60\n",
      "Batch n° 70\n",
      "0 Loss training: 1.03934\n",
      "0 Loss validation: 1.05157\n",
      "Batch n° 10\n",
      "Batch n° 20\n",
      "Batch n° 30\n",
      "Batch n° 40\n",
      "Batch n° 50\n",
      "Batch n° 60\n",
      "Batch n° 70\n",
      "1 Loss training: 0.567374\n",
      "1 Loss validation: 0.590449\n",
      "Batch n° 10\n",
      "Batch n° 20\n",
      "Batch n° 30\n",
      "Batch n° 40\n",
      "Batch n° 50\n",
      "Batch n° 60\n",
      "Batch n° 70\n",
      "2 Loss training: 0.476503\n",
      "2 Loss validation: 0.510276\n",
      "Batch n° 10\n",
      "Batch n° 20\n",
      "Batch n° 30\n",
      "Batch n° 40\n",
      "Batch n° 50\n",
      "Batch n° 60\n",
      "Batch n° 70\n",
      "3 Loss training: 0.348922\n",
      "3 Loss validation: 0.387917\n",
      "Batch n° 10\n",
      "Batch n° 20\n",
      "Batch n° 30\n",
      "Batch n° 40\n",
      "Batch n° 50\n",
      "Batch n° 60\n",
      "Batch n° 70\n",
      "4 Loss training: 0.279219\n",
      "4 Loss validation: 0.334058\n",
      "Batch n° 10\n",
      "Batch n° 20\n",
      "Batch n° 30\n",
      "Batch n° 40\n",
      "Batch n° 50\n",
      "Batch n° 60\n",
      "Batch n° 70\n",
      "5 Loss training: 0.246904\n",
      "5 Loss validation: 0.312119\n",
      "Batch n° 10\n",
      "Batch n° 20\n",
      "Batch n° 30\n",
      "Batch n° 40\n",
      "Batch n° 50\n",
      "Batch n° 60\n",
      "Batch n° 70\n",
      "6 Loss training: 0.204287\n",
      "6 Loss validation: 0.28699\n",
      "Batch n° 10\n",
      "Batch n° 20\n",
      "Batch n° 30\n",
      "Batch n° 40\n",
      "Batch n° 50\n",
      "Batch n° 60\n",
      "Batch n° 70\n",
      "7 Loss training: 0.190359\n",
      "7 Loss validation: 0.274185\n",
      "Batch n° 10\n",
      "Batch n° 20\n",
      "Batch n° 30\n"
     ]
    }
   ],
   "source": [
    "inference, X, seq_length = create_graph_RNN_and_train(X_train, y_train, X_val, y_val, n_steps, n_inputs, n_neurons=n_neurons, activation=activation, \n",
    "                                                      dropout_in=dropout_in, dropout_out=dropout_out, class_weights=class_weights, learning_rate=learning_rate, n_epochs=n_epochs, batch_size=batch_size, max_checks_without_progress=MAX_CHECKS_WITHOUT_PROGRESS)\n"
   ]
  },
  {
   "cell_type": "code",
   "execution_count": null,
   "metadata": {},
   "outputs": [],
   "source": [
    "print_confusion = True\n",
    "\n",
    "saver = tf.train.Saver()\n",
    "with tf.Session() as sess:\n",
    "    saver.restore(sess, \"./natural_language_classifier.ckpt\")\n",
    "    res = sess.run(inference, feed_dict={X: get_next_batch(X_val, 0, X_val.shape[0]), seq_length: size_texts_val})\n",
    "    y_pred = np.argmax(res, axis=1)\n",
    "\n",
    "print(cost(y_pred, y_val))"
   ]
  },
  {
   "cell_type": "markdown",
   "metadata": {},
   "source": [
    "# Problème régression"
   ]
  },
  {
   "cell_type": "code",
   "execution_count": null,
   "metadata": {},
   "outputs": [],
   "source": [
    "print(y_train)\n",
    "print(y_train.shape)"
   ]
  },
  {
   "cell_type": "code",
   "execution_count": null,
   "metadata": {},
   "outputs": [],
   "source": [
    "n_steps = X_train[0].shape[0] #taille des textes (rendue fixe)\n",
    "n_inputs = X_train[0].shape[1] #taille des vecteurs représentant chaque mot\n",
    "print(\"Nombre de mots des textes (fixe) =\", n_steps)\n",
    "print(\"Taille vecteur d'un mot =\", n_inputs)\n",
    "n_neurons = 500\n",
    "activation = tf.nn.relu\n",
    "n_outputs = 6\n",
    "learning_rate = 0.001\n",
    "\n",
    "n_epochs = 100\n",
    "batch_size = 200\n",
    "\n",
    "MAX_CHECKS_WITHOUT_PROGRESS = 3"
   ]
  },
  {
   "cell_type": "code",
   "execution_count": null,
   "metadata": {},
   "outputs": [],
   "source": [
    "import tensorflow as tf\n",
    "\n",
    "def create_graph_RNN_and_train(X_train, y_train, X_val, y_val, n_steps, n_inputs, n_neurons=500, activation=tf.nn.relu,\n",
    "                               learning_rate=0.001, n_epochs=100, batch_size=200, max_checks_without_progress=3):\n",
    "    \n",
    "    tf.reset_default_graph()\n",
    "    \n",
    "    X = tf.placeholder(tf.float32, shape=[None, n_steps, n_inputs], name=\"X\")\n",
    "    seq_length = tf.placeholder(tf.int32, [None]) #vecteur avec les nombres de mots dans les textes\n",
    "    y = tf.placeholder(tf.int64, shape=[None], name=\"y\")\n",
    "\n",
    "    basic_cell = tf.contrib.rnn.GRUCell(num_units=n_neurons, activation=activation)\n",
    "    outputs, states = tf.nn.dynamic_rnn(basic_cell, X, sequence_length=seq_length, dtype=tf.float32)\n",
    "\n",
    "    mark_temp = tf.layers.dense(inputs=states, units=1, name=\"mark\")\n",
    "    mark = tf.reshape(mark_temp, [-1])\n",
    "    inference = tf.round(mark, name=\"inference\")\n",
    "\n",
    "    with tf.name_scope(\"loss\"):\n",
    "        loss = tf.losses.mean_squared_error(y, mark)\n",
    "        \n",
    "    with tf.name_scope(\"train\"):\n",
    "        optimizer = tf.train.AdamOptimizer(learning_rate=learning_rate)\n",
    "        training_op = optimizer.minimize(loss)\n",
    "\n",
    "    summary_writer = tf.summary.FileWriter(\"./summary\", tf.get_default_graph())\n",
    "\n",
    "    init = tf.global_variables_initializer()\n",
    "    saver = tf.train.Saver()\n",
    "    \n",
    "    n_batches_per_epoch = X_train.shape[0] // batch_size\n",
    "    print(\"Nombre de batchs par epoch =\", n_batches_per_epoch)\n",
    "    \n",
    "    best_loss = np.infty\n",
    "    checks_without_progress = 0\n",
    "    \n",
    "    with tf.Session() as sess:\n",
    "        init.run()\n",
    "        for epoch in range(n_epochs):\n",
    "            for iteration in range(n_batches_per_epoch):\n",
    "                if (iteration+1)%10==0:\n",
    "                    print(\"Batch n°\", iteration+1)\n",
    "                X_batch = get_next_batch(X_train, iteration, batch_size)\n",
    "                y_batch = y_train[iteration*batch_size:(iteration+1)*batch_size]\n",
    "\n",
    "                sess.run(training_op, feed_dict={X: X_batch, y: y_batch, seq_length: size_texts_train[iteration*batch_size:(iteration+1)*batch_size]})\n",
    "\n",
    "            #fonction de coût sur les 5000 premiers textes d'entrainement (pour que ça tienne dans la mémoire vive)\n",
    "            nb_training_examples = 5000\n",
    "            if X_train.shape[0] < nb_training_examples:\n",
    "                nb_training_examples = X_train.shape[0]\n",
    "            loss_train = loss.eval(feed_dict={X: get_next_batch(X_train[0:nb_training_examples], 0, nb_training_examples), y: y_train[0:nb_training_examples], seq_length: size_texts_train[0:nb_training_examples]})\n",
    "            loss_val = loss.eval(feed_dict={X: get_next_batch(X_val, 0, X_val.shape[0]), y: y_val, seq_length: size_texts_val[0:X_val.shape[0]]})\n",
    "            print(epoch, \"Loss training:\", loss_train)\n",
    "            print(epoch, \"Loss validation:\", loss_val)\n",
    "\n",
    "            if loss_val < best_loss:\n",
    "                save_path = saver.save(sess, \"./natural_language_classifier.ckpt\")\n",
    "                best_loss = loss_val\n",
    "                checks_without_progress = 0\n",
    "            else:\n",
    "                checks_without_progress += 1\n",
    "                if checks_without_progress >= MAX_CHECKS_WITHOUT_PROGRESS:\n",
    "                    print(\"Early stopping!\")\n",
    "                    break\n",
    "    return inference, X, seq_length"
   ]
  },
  {
   "cell_type": "code",
   "execution_count": null,
   "metadata": {},
   "outputs": [],
   "source": [
    "inference, X, seq_length = create_graph_RNN_and_train(X_train, y_train, X_val, y_val, n_steps, n_inputs, n_neurons=n_neurons, activation=activation,\n",
    "                           learning_rate=learning_rate, n_epochs=n_epochs, batch_size=batch_size, max_checks_without_progress=MAX_CHECKS_WITHOUT_PROGRESS)"
   ]
  },
  {
   "cell_type": "code",
   "execution_count": null,
   "metadata": {},
   "outputs": [],
   "source": [
    "print_confusion = True\n",
    "\n",
    "saver = tf.train.Saver()\n",
    "with tf.Session() as sess:\n",
    "    saver.restore(sess, \"./natural_language_classifier.ckpt\")\n",
    "    y_pred = sess.run(inference, feed_dict={X: get_next_batch(X_val, 0, X_val.shape[0]), seq_length: size_texts_val})\n",
    "    #y_pred = np.argmax(res, axis=1)\n",
    "\n",
    "print(cost(y_pred, y_val))"
   ]
  },
  {
   "cell_type": "code",
   "execution_count": null,
   "metadata": {},
   "outputs": [],
   "source": []
  },
  {
   "cell_type": "code",
   "execution_count": null,
   "metadata": {},
   "outputs": [],
   "source": []
  }
 ],
 "metadata": {
  "kernelspec": {
   "display_name": "Python [default]",
   "language": "python",
   "name": "python3"
  },
  "language_info": {
   "codemirror_mode": {
    "name": "ipython",
    "version": 3
   },
   "file_extension": ".py",
   "mimetype": "text/x-python",
   "name": "python",
   "nbconvert_exporter": "python",
   "pygments_lexer": "ipython3",
   "version": "3.6.4"
  }
 },
 "nbformat": 4,
 "nbformat_minor": 2
}
