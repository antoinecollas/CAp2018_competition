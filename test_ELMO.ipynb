{
 "cells": [
  {
   "cell_type": "code",
   "execution_count": 39,
   "metadata": {},
   "outputs": [],
   "source": [
    "import tensorflow as tf\n",
    "import tensorflow_hub as hub\n",
    "import numpy as np\n",
    "np.set_printoptions(threshold=np.nan)"
   ]
  },
  {
   "cell_type": "code",
   "execution_count": 42,
   "metadata": {},
   "outputs": [],
   "source": [
    "def test_ELMO(to_test):\n",
    "    tf.reset_default_graph()\n",
    "    elmo = hub.Module(\"https://tfhub.dev/google/elmo/1\", trainable=True)\n",
    "    X = tf.placeholder(dtype=tf.string, shape=[None], name=\"X\")\n",
    "    res = elmo(X, signature=\"default\", as_dict=True)[\"elmo\"]\n",
    "    print_res = tf.Print(res, [res])\n",
    "    print(res)\n",
    "    print(print_res)\n",
    "    init = tf.global_variables_initializer()\n",
    "\n",
    "    with tf.Session() as sess:\n",
    "        init.run()\n",
    "        res = sess.run(print_res, feed_dict={X:to_test})\n",
    "    return res"
   ]
  },
  {
   "cell_type": "markdown",
   "metadata": {},
   "source": [
    "## Influence de la taille des textes"
   ]
  },
  {
   "cell_type": "code",
   "execution_count": 57,
   "metadata": {},
   "outputs": [
    {
     "name": "stdout",
     "output_type": "stream",
     "text": [
      "INFO:tensorflow:Initialize variable module/aggregation/scaling:0 from checkpoint b'/var/folders/c6/q7qf1btx3ljcxn300b8nqt5h0000gn/T/tfhub_modules/0eadd30f548cbfd3065119697ded6bb381668285/variables/variables' with aggregation/scaling\n",
      "INFO:tensorflow:Initialize variable module/aggregation/weights:0 from checkpoint b'/var/folders/c6/q7qf1btx3ljcxn300b8nqt5h0000gn/T/tfhub_modules/0eadd30f548cbfd3065119697ded6bb381668285/variables/variables' with aggregation/weights\n",
      "INFO:tensorflow:Initialize variable module/bilm/CNN/W_cnn_0:0 from checkpoint b'/var/folders/c6/q7qf1btx3ljcxn300b8nqt5h0000gn/T/tfhub_modules/0eadd30f548cbfd3065119697ded6bb381668285/variables/variables' with bilm/CNN/W_cnn_0\n",
      "INFO:tensorflow:Initialize variable module/bilm/CNN/W_cnn_1:0 from checkpoint b'/var/folders/c6/q7qf1btx3ljcxn300b8nqt5h0000gn/T/tfhub_modules/0eadd30f548cbfd3065119697ded6bb381668285/variables/variables' with bilm/CNN/W_cnn_1\n",
      "INFO:tensorflow:Initialize variable module/bilm/CNN/W_cnn_2:0 from checkpoint b'/var/folders/c6/q7qf1btx3ljcxn300b8nqt5h0000gn/T/tfhub_modules/0eadd30f548cbfd3065119697ded6bb381668285/variables/variables' with bilm/CNN/W_cnn_2\n",
      "INFO:tensorflow:Initialize variable module/bilm/CNN/W_cnn_3:0 from checkpoint b'/var/folders/c6/q7qf1btx3ljcxn300b8nqt5h0000gn/T/tfhub_modules/0eadd30f548cbfd3065119697ded6bb381668285/variables/variables' with bilm/CNN/W_cnn_3\n",
      "INFO:tensorflow:Initialize variable module/bilm/CNN/W_cnn_4:0 from checkpoint b'/var/folders/c6/q7qf1btx3ljcxn300b8nqt5h0000gn/T/tfhub_modules/0eadd30f548cbfd3065119697ded6bb381668285/variables/variables' with bilm/CNN/W_cnn_4\n",
      "INFO:tensorflow:Initialize variable module/bilm/CNN/W_cnn_5:0 from checkpoint b'/var/folders/c6/q7qf1btx3ljcxn300b8nqt5h0000gn/T/tfhub_modules/0eadd30f548cbfd3065119697ded6bb381668285/variables/variables' with bilm/CNN/W_cnn_5\n",
      "INFO:tensorflow:Initialize variable module/bilm/CNN/W_cnn_6:0 from checkpoint b'/var/folders/c6/q7qf1btx3ljcxn300b8nqt5h0000gn/T/tfhub_modules/0eadd30f548cbfd3065119697ded6bb381668285/variables/variables' with bilm/CNN/W_cnn_6\n",
      "INFO:tensorflow:Initialize variable module/bilm/CNN/b_cnn_0:0 from checkpoint b'/var/folders/c6/q7qf1btx3ljcxn300b8nqt5h0000gn/T/tfhub_modules/0eadd30f548cbfd3065119697ded6bb381668285/variables/variables' with bilm/CNN/b_cnn_0\n",
      "INFO:tensorflow:Initialize variable module/bilm/CNN/b_cnn_1:0 from checkpoint b'/var/folders/c6/q7qf1btx3ljcxn300b8nqt5h0000gn/T/tfhub_modules/0eadd30f548cbfd3065119697ded6bb381668285/variables/variables' with bilm/CNN/b_cnn_1\n",
      "INFO:tensorflow:Initialize variable module/bilm/CNN/b_cnn_2:0 from checkpoint b'/var/folders/c6/q7qf1btx3ljcxn300b8nqt5h0000gn/T/tfhub_modules/0eadd30f548cbfd3065119697ded6bb381668285/variables/variables' with bilm/CNN/b_cnn_2\n",
      "INFO:tensorflow:Initialize variable module/bilm/CNN/b_cnn_3:0 from checkpoint b'/var/folders/c6/q7qf1btx3ljcxn300b8nqt5h0000gn/T/tfhub_modules/0eadd30f548cbfd3065119697ded6bb381668285/variables/variables' with bilm/CNN/b_cnn_3\n",
      "INFO:tensorflow:Initialize variable module/bilm/CNN/b_cnn_4:0 from checkpoint b'/var/folders/c6/q7qf1btx3ljcxn300b8nqt5h0000gn/T/tfhub_modules/0eadd30f548cbfd3065119697ded6bb381668285/variables/variables' with bilm/CNN/b_cnn_4\n",
      "INFO:tensorflow:Initialize variable module/bilm/CNN/b_cnn_5:0 from checkpoint b'/var/folders/c6/q7qf1btx3ljcxn300b8nqt5h0000gn/T/tfhub_modules/0eadd30f548cbfd3065119697ded6bb381668285/variables/variables' with bilm/CNN/b_cnn_5\n",
      "INFO:tensorflow:Initialize variable module/bilm/CNN/b_cnn_6:0 from checkpoint b'/var/folders/c6/q7qf1btx3ljcxn300b8nqt5h0000gn/T/tfhub_modules/0eadd30f548cbfd3065119697ded6bb381668285/variables/variables' with bilm/CNN/b_cnn_6\n",
      "INFO:tensorflow:Initialize variable module/bilm/CNN_high_0/W_carry:0 from checkpoint b'/var/folders/c6/q7qf1btx3ljcxn300b8nqt5h0000gn/T/tfhub_modules/0eadd30f548cbfd3065119697ded6bb381668285/variables/variables' with bilm/CNN_high_0/W_carry\n",
      "INFO:tensorflow:Initialize variable module/bilm/CNN_high_0/W_transform:0 from checkpoint b'/var/folders/c6/q7qf1btx3ljcxn300b8nqt5h0000gn/T/tfhub_modules/0eadd30f548cbfd3065119697ded6bb381668285/variables/variables' with bilm/CNN_high_0/W_transform\n",
      "INFO:tensorflow:Initialize variable module/bilm/CNN_high_0/b_carry:0 from checkpoint b'/var/folders/c6/q7qf1btx3ljcxn300b8nqt5h0000gn/T/tfhub_modules/0eadd30f548cbfd3065119697ded6bb381668285/variables/variables' with bilm/CNN_high_0/b_carry\n",
      "INFO:tensorflow:Initialize variable module/bilm/CNN_high_0/b_transform:0 from checkpoint b'/var/folders/c6/q7qf1btx3ljcxn300b8nqt5h0000gn/T/tfhub_modules/0eadd30f548cbfd3065119697ded6bb381668285/variables/variables' with bilm/CNN_high_0/b_transform\n",
      "INFO:tensorflow:Initialize variable module/bilm/CNN_high_1/W_carry:0 from checkpoint b'/var/folders/c6/q7qf1btx3ljcxn300b8nqt5h0000gn/T/tfhub_modules/0eadd30f548cbfd3065119697ded6bb381668285/variables/variables' with bilm/CNN_high_1/W_carry\n",
      "INFO:tensorflow:Initialize variable module/bilm/CNN_high_1/W_transform:0 from checkpoint b'/var/folders/c6/q7qf1btx3ljcxn300b8nqt5h0000gn/T/tfhub_modules/0eadd30f548cbfd3065119697ded6bb381668285/variables/variables' with bilm/CNN_high_1/W_transform\n",
      "INFO:tensorflow:Initialize variable module/bilm/CNN_high_1/b_carry:0 from checkpoint b'/var/folders/c6/q7qf1btx3ljcxn300b8nqt5h0000gn/T/tfhub_modules/0eadd30f548cbfd3065119697ded6bb381668285/variables/variables' with bilm/CNN_high_1/b_carry\n",
      "INFO:tensorflow:Initialize variable module/bilm/CNN_high_1/b_transform:0 from checkpoint b'/var/folders/c6/q7qf1btx3ljcxn300b8nqt5h0000gn/T/tfhub_modules/0eadd30f548cbfd3065119697ded6bb381668285/variables/variables' with bilm/CNN_high_1/b_transform\n",
      "INFO:tensorflow:Initialize variable module/bilm/CNN_proj/W_proj:0 from checkpoint b'/var/folders/c6/q7qf1btx3ljcxn300b8nqt5h0000gn/T/tfhub_modules/0eadd30f548cbfd3065119697ded6bb381668285/variables/variables' with bilm/CNN_proj/W_proj\n",
      "INFO:tensorflow:Initialize variable module/bilm/CNN_proj/b_proj:0 from checkpoint b'/var/folders/c6/q7qf1btx3ljcxn300b8nqt5h0000gn/T/tfhub_modules/0eadd30f548cbfd3065119697ded6bb381668285/variables/variables' with bilm/CNN_proj/b_proj\n",
      "INFO:tensorflow:Initialize variable module/bilm/RNN_0/RNN/MultiRNNCell/Cell0/rnn/lstm_cell/bias:0 from checkpoint b'/var/folders/c6/q7qf1btx3ljcxn300b8nqt5h0000gn/T/tfhub_modules/0eadd30f548cbfd3065119697ded6bb381668285/variables/variables' with bilm/RNN_0/RNN/MultiRNNCell/Cell0/rnn/lstm_cell/bias\n",
      "INFO:tensorflow:Initialize variable module/bilm/RNN_0/RNN/MultiRNNCell/Cell0/rnn/lstm_cell/kernel:0 from checkpoint b'/var/folders/c6/q7qf1btx3ljcxn300b8nqt5h0000gn/T/tfhub_modules/0eadd30f548cbfd3065119697ded6bb381668285/variables/variables' with bilm/RNN_0/RNN/MultiRNNCell/Cell0/rnn/lstm_cell/kernel\n",
      "INFO:tensorflow:Initialize variable module/bilm/RNN_0/RNN/MultiRNNCell/Cell0/rnn/lstm_cell/projection/kernel:0 from checkpoint b'/var/folders/c6/q7qf1btx3ljcxn300b8nqt5h0000gn/T/tfhub_modules/0eadd30f548cbfd3065119697ded6bb381668285/variables/variables' with bilm/RNN_0/RNN/MultiRNNCell/Cell0/rnn/lstm_cell/projection/kernel\n",
      "INFO:tensorflow:Initialize variable module/bilm/RNN_0/RNN/MultiRNNCell/Cell1/rnn/lstm_cell/bias:0 from checkpoint b'/var/folders/c6/q7qf1btx3ljcxn300b8nqt5h0000gn/T/tfhub_modules/0eadd30f548cbfd3065119697ded6bb381668285/variables/variables' with bilm/RNN_0/RNN/MultiRNNCell/Cell1/rnn/lstm_cell/bias\n",
      "INFO:tensorflow:Initialize variable module/bilm/RNN_0/RNN/MultiRNNCell/Cell1/rnn/lstm_cell/kernel:0 from checkpoint b'/var/folders/c6/q7qf1btx3ljcxn300b8nqt5h0000gn/T/tfhub_modules/0eadd30f548cbfd3065119697ded6bb381668285/variables/variables' with bilm/RNN_0/RNN/MultiRNNCell/Cell1/rnn/lstm_cell/kernel\n",
      "INFO:tensorflow:Initialize variable module/bilm/RNN_0/RNN/MultiRNNCell/Cell1/rnn/lstm_cell/projection/kernel:0 from checkpoint b'/var/folders/c6/q7qf1btx3ljcxn300b8nqt5h0000gn/T/tfhub_modules/0eadd30f548cbfd3065119697ded6bb381668285/variables/variables' with bilm/RNN_0/RNN/MultiRNNCell/Cell1/rnn/lstm_cell/projection/kernel\n",
      "INFO:tensorflow:Initialize variable module/bilm/RNN_1/RNN/MultiRNNCell/Cell0/rnn/lstm_cell/bias:0 from checkpoint b'/var/folders/c6/q7qf1btx3ljcxn300b8nqt5h0000gn/T/tfhub_modules/0eadd30f548cbfd3065119697ded6bb381668285/variables/variables' with bilm/RNN_1/RNN/MultiRNNCell/Cell0/rnn/lstm_cell/bias\n"
     ]
    },
    {
     "name": "stdout",
     "output_type": "stream",
     "text": [
      "INFO:tensorflow:Initialize variable module/bilm/RNN_1/RNN/MultiRNNCell/Cell0/rnn/lstm_cell/kernel:0 from checkpoint b'/var/folders/c6/q7qf1btx3ljcxn300b8nqt5h0000gn/T/tfhub_modules/0eadd30f548cbfd3065119697ded6bb381668285/variables/variables' with bilm/RNN_1/RNN/MultiRNNCell/Cell0/rnn/lstm_cell/kernel\n",
      "INFO:tensorflow:Initialize variable module/bilm/RNN_1/RNN/MultiRNNCell/Cell0/rnn/lstm_cell/projection/kernel:0 from checkpoint b'/var/folders/c6/q7qf1btx3ljcxn300b8nqt5h0000gn/T/tfhub_modules/0eadd30f548cbfd3065119697ded6bb381668285/variables/variables' with bilm/RNN_1/RNN/MultiRNNCell/Cell0/rnn/lstm_cell/projection/kernel\n",
      "INFO:tensorflow:Initialize variable module/bilm/RNN_1/RNN/MultiRNNCell/Cell1/rnn/lstm_cell/bias:0 from checkpoint b'/var/folders/c6/q7qf1btx3ljcxn300b8nqt5h0000gn/T/tfhub_modules/0eadd30f548cbfd3065119697ded6bb381668285/variables/variables' with bilm/RNN_1/RNN/MultiRNNCell/Cell1/rnn/lstm_cell/bias\n",
      "INFO:tensorflow:Initialize variable module/bilm/RNN_1/RNN/MultiRNNCell/Cell1/rnn/lstm_cell/kernel:0 from checkpoint b'/var/folders/c6/q7qf1btx3ljcxn300b8nqt5h0000gn/T/tfhub_modules/0eadd30f548cbfd3065119697ded6bb381668285/variables/variables' with bilm/RNN_1/RNN/MultiRNNCell/Cell1/rnn/lstm_cell/kernel\n",
      "INFO:tensorflow:Initialize variable module/bilm/RNN_1/RNN/MultiRNNCell/Cell1/rnn/lstm_cell/projection/kernel:0 from checkpoint b'/var/folders/c6/q7qf1btx3ljcxn300b8nqt5h0000gn/T/tfhub_modules/0eadd30f548cbfd3065119697ded6bb381668285/variables/variables' with bilm/RNN_1/RNN/MultiRNNCell/Cell1/rnn/lstm_cell/projection/kernel\n",
      "INFO:tensorflow:Initialize variable module/bilm/char_embed:0 from checkpoint b'/var/folders/c6/q7qf1btx3ljcxn300b8nqt5h0000gn/T/tfhub_modules/0eadd30f548cbfd3065119697ded6bb381668285/variables/variables' with bilm/char_embed\n",
      "Tensor(\"module_apply_default/aggregation/mul_3:0\", shape=(?, ?, 1024), dtype=float32)\n",
      "Tensor(\"Print:0\", shape=(?, ?, 1024), dtype=float32)\n"
     ]
    }
   ],
   "source": [
    "res = test_ELMO(['Hi what\\'s up ?', 'cat'])"
   ]
  },
  {
   "cell_type": "code",
   "execution_count": 59,
   "metadata": {},
   "outputs": [
    {
     "name": "stdout",
     "output_type": "stream",
     "text": [
      "(2, 4, 1024)\n",
      "Hi what's up ?\n",
      "[-0.7205106  -0.27990723 -0.7735626  -0.29121172 -0.31603378  0.36918265\n",
      " -0.17644788 -0.1044282  -0.8824556  -0.12991579]\n",
      "[ 0.33855703 -0.5163913  -0.03648562  0.19395952  0.15511677 -0.0843221\n",
      " -0.12468555 -0.10119995 -0.29682028  0.00837271]\n",
      "[-0.25599796 -0.29609966  0.26929176 -0.22677599  0.3081195   0.12470195\n",
      "  0.26002723  0.926646   -0.97620326 -0.17042568]\n",
      "[-0.57213926  0.04905436 -0.30061764 -0.46719986  0.0423663  -0.1944154\n",
      "  0.6429798   0.8387624  -0.5368016   0.10069066]\n",
      "cat\n",
      "[ 0.9285459  -0.10769901 -0.0833187  -0.5213802   0.24587572  0.27843451\n",
      " -0.03003087 -0.7948242  -0.2508039  -0.6210166 ]\n",
      "[-0.02840839 -0.04353216  0.04130163 -0.02207175 -0.01146173 -0.00045961\n",
      "  0.04077656 -0.00169812 -0.05203742 -0.10817083]\n",
      "[-0.02840839 -0.04353216  0.04130163 -0.02207175 -0.01146173 -0.00045961\n",
      "  0.04077656 -0.00169812 -0.05203742 -0.10817083]\n",
      "[-0.02840839 -0.04353216  0.04130163 -0.02207175 -0.01146173 -0.00045961\n",
      "  0.04077656 -0.00169812 -0.05203742 -0.10817083]\n"
     ]
    }
   ],
   "source": [
    "print(res.shape)\n",
    "print('Hi what\\'s up ?')\n",
    "print(res[0,0,:10])\n",
    "print(res[0,1,:10])\n",
    "print(res[0,2,:10])\n",
    "print(res[0,3,:10])\n",
    "print('cat')\n",
    "print(res[1,0,:10])\n",
    "print(res[1,1,:10])\n",
    "print(res[1,2,:10])\n",
    "print(res[1,3,:10])"
   ]
  },
  {
   "cell_type": "markdown",
   "metadata": {},
   "source": [
    "## Influence de la ponctuation"
   ]
  },
  {
   "cell_type": "code",
   "execution_count": 69,
   "metadata": {
    "scrolled": true
   },
   "outputs": [
    {
     "name": "stdout",
     "output_type": "stream",
     "text": [
      "INFO:tensorflow:Initialize variable module/aggregation/scaling:0 from checkpoint b'/var/folders/c6/q7qf1btx3ljcxn300b8nqt5h0000gn/T/tfhub_modules/0eadd30f548cbfd3065119697ded6bb381668285/variables/variables' with aggregation/scaling\n",
      "INFO:tensorflow:Initialize variable module/aggregation/weights:0 from checkpoint b'/var/folders/c6/q7qf1btx3ljcxn300b8nqt5h0000gn/T/tfhub_modules/0eadd30f548cbfd3065119697ded6bb381668285/variables/variables' with aggregation/weights\n",
      "INFO:tensorflow:Initialize variable module/bilm/CNN/W_cnn_0:0 from checkpoint b'/var/folders/c6/q7qf1btx3ljcxn300b8nqt5h0000gn/T/tfhub_modules/0eadd30f548cbfd3065119697ded6bb381668285/variables/variables' with bilm/CNN/W_cnn_0\n",
      "INFO:tensorflow:Initialize variable module/bilm/CNN/W_cnn_1:0 from checkpoint b'/var/folders/c6/q7qf1btx3ljcxn300b8nqt5h0000gn/T/tfhub_modules/0eadd30f548cbfd3065119697ded6bb381668285/variables/variables' with bilm/CNN/W_cnn_1\n",
      "INFO:tensorflow:Initialize variable module/bilm/CNN/W_cnn_2:0 from checkpoint b'/var/folders/c6/q7qf1btx3ljcxn300b8nqt5h0000gn/T/tfhub_modules/0eadd30f548cbfd3065119697ded6bb381668285/variables/variables' with bilm/CNN/W_cnn_2\n",
      "INFO:tensorflow:Initialize variable module/bilm/CNN/W_cnn_3:0 from checkpoint b'/var/folders/c6/q7qf1btx3ljcxn300b8nqt5h0000gn/T/tfhub_modules/0eadd30f548cbfd3065119697ded6bb381668285/variables/variables' with bilm/CNN/W_cnn_3\n",
      "INFO:tensorflow:Initialize variable module/bilm/CNN/W_cnn_4:0 from checkpoint b'/var/folders/c6/q7qf1btx3ljcxn300b8nqt5h0000gn/T/tfhub_modules/0eadd30f548cbfd3065119697ded6bb381668285/variables/variables' with bilm/CNN/W_cnn_4\n",
      "INFO:tensorflow:Initialize variable module/bilm/CNN/W_cnn_5:0 from checkpoint b'/var/folders/c6/q7qf1btx3ljcxn300b8nqt5h0000gn/T/tfhub_modules/0eadd30f548cbfd3065119697ded6bb381668285/variables/variables' with bilm/CNN/W_cnn_5\n",
      "INFO:tensorflow:Initialize variable module/bilm/CNN/W_cnn_6:0 from checkpoint b'/var/folders/c6/q7qf1btx3ljcxn300b8nqt5h0000gn/T/tfhub_modules/0eadd30f548cbfd3065119697ded6bb381668285/variables/variables' with bilm/CNN/W_cnn_6\n",
      "INFO:tensorflow:Initialize variable module/bilm/CNN/b_cnn_0:0 from checkpoint b'/var/folders/c6/q7qf1btx3ljcxn300b8nqt5h0000gn/T/tfhub_modules/0eadd30f548cbfd3065119697ded6bb381668285/variables/variables' with bilm/CNN/b_cnn_0\n",
      "INFO:tensorflow:Initialize variable module/bilm/CNN/b_cnn_1:0 from checkpoint b'/var/folders/c6/q7qf1btx3ljcxn300b8nqt5h0000gn/T/tfhub_modules/0eadd30f548cbfd3065119697ded6bb381668285/variables/variables' with bilm/CNN/b_cnn_1\n",
      "INFO:tensorflow:Initialize variable module/bilm/CNN/b_cnn_2:0 from checkpoint b'/var/folders/c6/q7qf1btx3ljcxn300b8nqt5h0000gn/T/tfhub_modules/0eadd30f548cbfd3065119697ded6bb381668285/variables/variables' with bilm/CNN/b_cnn_2\n",
      "INFO:tensorflow:Initialize variable module/bilm/CNN/b_cnn_3:0 from checkpoint b'/var/folders/c6/q7qf1btx3ljcxn300b8nqt5h0000gn/T/tfhub_modules/0eadd30f548cbfd3065119697ded6bb381668285/variables/variables' with bilm/CNN/b_cnn_3\n",
      "INFO:tensorflow:Initialize variable module/bilm/CNN/b_cnn_4:0 from checkpoint b'/var/folders/c6/q7qf1btx3ljcxn300b8nqt5h0000gn/T/tfhub_modules/0eadd30f548cbfd3065119697ded6bb381668285/variables/variables' with bilm/CNN/b_cnn_4\n",
      "INFO:tensorflow:Initialize variable module/bilm/CNN/b_cnn_5:0 from checkpoint b'/var/folders/c6/q7qf1btx3ljcxn300b8nqt5h0000gn/T/tfhub_modules/0eadd30f548cbfd3065119697ded6bb381668285/variables/variables' with bilm/CNN/b_cnn_5\n",
      "INFO:tensorflow:Initialize variable module/bilm/CNN/b_cnn_6:0 from checkpoint b'/var/folders/c6/q7qf1btx3ljcxn300b8nqt5h0000gn/T/tfhub_modules/0eadd30f548cbfd3065119697ded6bb381668285/variables/variables' with bilm/CNN/b_cnn_6\n",
      "INFO:tensorflow:Initialize variable module/bilm/CNN_high_0/W_carry:0 from checkpoint b'/var/folders/c6/q7qf1btx3ljcxn300b8nqt5h0000gn/T/tfhub_modules/0eadd30f548cbfd3065119697ded6bb381668285/variables/variables' with bilm/CNN_high_0/W_carry\n",
      "INFO:tensorflow:Initialize variable module/bilm/CNN_high_0/W_transform:0 from checkpoint b'/var/folders/c6/q7qf1btx3ljcxn300b8nqt5h0000gn/T/tfhub_modules/0eadd30f548cbfd3065119697ded6bb381668285/variables/variables' with bilm/CNN_high_0/W_transform\n",
      "INFO:tensorflow:Initialize variable module/bilm/CNN_high_0/b_carry:0 from checkpoint b'/var/folders/c6/q7qf1btx3ljcxn300b8nqt5h0000gn/T/tfhub_modules/0eadd30f548cbfd3065119697ded6bb381668285/variables/variables' with bilm/CNN_high_0/b_carry\n",
      "INFO:tensorflow:Initialize variable module/bilm/CNN_high_0/b_transform:0 from checkpoint b'/var/folders/c6/q7qf1btx3ljcxn300b8nqt5h0000gn/T/tfhub_modules/0eadd30f548cbfd3065119697ded6bb381668285/variables/variables' with bilm/CNN_high_0/b_transform\n",
      "INFO:tensorflow:Initialize variable module/bilm/CNN_high_1/W_carry:0 from checkpoint b'/var/folders/c6/q7qf1btx3ljcxn300b8nqt5h0000gn/T/tfhub_modules/0eadd30f548cbfd3065119697ded6bb381668285/variables/variables' with bilm/CNN_high_1/W_carry\n",
      "INFO:tensorflow:Initialize variable module/bilm/CNN_high_1/W_transform:0 from checkpoint b'/var/folders/c6/q7qf1btx3ljcxn300b8nqt5h0000gn/T/tfhub_modules/0eadd30f548cbfd3065119697ded6bb381668285/variables/variables' with bilm/CNN_high_1/W_transform\n",
      "INFO:tensorflow:Initialize variable module/bilm/CNN_high_1/b_carry:0 from checkpoint b'/var/folders/c6/q7qf1btx3ljcxn300b8nqt5h0000gn/T/tfhub_modules/0eadd30f548cbfd3065119697ded6bb381668285/variables/variables' with bilm/CNN_high_1/b_carry\n",
      "INFO:tensorflow:Initialize variable module/bilm/CNN_high_1/b_transform:0 from checkpoint b'/var/folders/c6/q7qf1btx3ljcxn300b8nqt5h0000gn/T/tfhub_modules/0eadd30f548cbfd3065119697ded6bb381668285/variables/variables' with bilm/CNN_high_1/b_transform\n",
      "INFO:tensorflow:Initialize variable module/bilm/CNN_proj/W_proj:0 from checkpoint b'/var/folders/c6/q7qf1btx3ljcxn300b8nqt5h0000gn/T/tfhub_modules/0eadd30f548cbfd3065119697ded6bb381668285/variables/variables' with bilm/CNN_proj/W_proj\n",
      "INFO:tensorflow:Initialize variable module/bilm/CNN_proj/b_proj:0 from checkpoint b'/var/folders/c6/q7qf1btx3ljcxn300b8nqt5h0000gn/T/tfhub_modules/0eadd30f548cbfd3065119697ded6bb381668285/variables/variables' with bilm/CNN_proj/b_proj\n",
      "INFO:tensorflow:Initialize variable module/bilm/RNN_0/RNN/MultiRNNCell/Cell0/rnn/lstm_cell/bias:0 from checkpoint b'/var/folders/c6/q7qf1btx3ljcxn300b8nqt5h0000gn/T/tfhub_modules/0eadd30f548cbfd3065119697ded6bb381668285/variables/variables' with bilm/RNN_0/RNN/MultiRNNCell/Cell0/rnn/lstm_cell/bias\n",
      "INFO:tensorflow:Initialize variable module/bilm/RNN_0/RNN/MultiRNNCell/Cell0/rnn/lstm_cell/kernel:0 from checkpoint b'/var/folders/c6/q7qf1btx3ljcxn300b8nqt5h0000gn/T/tfhub_modules/0eadd30f548cbfd3065119697ded6bb381668285/variables/variables' with bilm/RNN_0/RNN/MultiRNNCell/Cell0/rnn/lstm_cell/kernel\n",
      "INFO:tensorflow:Initialize variable module/bilm/RNN_0/RNN/MultiRNNCell/Cell0/rnn/lstm_cell/projection/kernel:0 from checkpoint b'/var/folders/c6/q7qf1btx3ljcxn300b8nqt5h0000gn/T/tfhub_modules/0eadd30f548cbfd3065119697ded6bb381668285/variables/variables' with bilm/RNN_0/RNN/MultiRNNCell/Cell0/rnn/lstm_cell/projection/kernel\n",
      "INFO:tensorflow:Initialize variable module/bilm/RNN_0/RNN/MultiRNNCell/Cell1/rnn/lstm_cell/bias:0 from checkpoint b'/var/folders/c6/q7qf1btx3ljcxn300b8nqt5h0000gn/T/tfhub_modules/0eadd30f548cbfd3065119697ded6bb381668285/variables/variables' with bilm/RNN_0/RNN/MultiRNNCell/Cell1/rnn/lstm_cell/bias\n",
      "INFO:tensorflow:Initialize variable module/bilm/RNN_0/RNN/MultiRNNCell/Cell1/rnn/lstm_cell/kernel:0 from checkpoint b'/var/folders/c6/q7qf1btx3ljcxn300b8nqt5h0000gn/T/tfhub_modules/0eadd30f548cbfd3065119697ded6bb381668285/variables/variables' with bilm/RNN_0/RNN/MultiRNNCell/Cell1/rnn/lstm_cell/kernel\n",
      "INFO:tensorflow:Initialize variable module/bilm/RNN_0/RNN/MultiRNNCell/Cell1/rnn/lstm_cell/projection/kernel:0 from checkpoint b'/var/folders/c6/q7qf1btx3ljcxn300b8nqt5h0000gn/T/tfhub_modules/0eadd30f548cbfd3065119697ded6bb381668285/variables/variables' with bilm/RNN_0/RNN/MultiRNNCell/Cell1/rnn/lstm_cell/projection/kernel\n"
     ]
    },
    {
     "name": "stdout",
     "output_type": "stream",
     "text": [
      "INFO:tensorflow:Initialize variable module/bilm/RNN_1/RNN/MultiRNNCell/Cell0/rnn/lstm_cell/bias:0 from checkpoint b'/var/folders/c6/q7qf1btx3ljcxn300b8nqt5h0000gn/T/tfhub_modules/0eadd30f548cbfd3065119697ded6bb381668285/variables/variables' with bilm/RNN_1/RNN/MultiRNNCell/Cell0/rnn/lstm_cell/bias\n",
      "INFO:tensorflow:Initialize variable module/bilm/RNN_1/RNN/MultiRNNCell/Cell0/rnn/lstm_cell/kernel:0 from checkpoint b'/var/folders/c6/q7qf1btx3ljcxn300b8nqt5h0000gn/T/tfhub_modules/0eadd30f548cbfd3065119697ded6bb381668285/variables/variables' with bilm/RNN_1/RNN/MultiRNNCell/Cell0/rnn/lstm_cell/kernel\n",
      "INFO:tensorflow:Initialize variable module/bilm/RNN_1/RNN/MultiRNNCell/Cell0/rnn/lstm_cell/projection/kernel:0 from checkpoint b'/var/folders/c6/q7qf1btx3ljcxn300b8nqt5h0000gn/T/tfhub_modules/0eadd30f548cbfd3065119697ded6bb381668285/variables/variables' with bilm/RNN_1/RNN/MultiRNNCell/Cell0/rnn/lstm_cell/projection/kernel\n",
      "INFO:tensorflow:Initialize variable module/bilm/RNN_1/RNN/MultiRNNCell/Cell1/rnn/lstm_cell/bias:0 from checkpoint b'/var/folders/c6/q7qf1btx3ljcxn300b8nqt5h0000gn/T/tfhub_modules/0eadd30f548cbfd3065119697ded6bb381668285/variables/variables' with bilm/RNN_1/RNN/MultiRNNCell/Cell1/rnn/lstm_cell/bias\n",
      "INFO:tensorflow:Initialize variable module/bilm/RNN_1/RNN/MultiRNNCell/Cell1/rnn/lstm_cell/kernel:0 from checkpoint b'/var/folders/c6/q7qf1btx3ljcxn300b8nqt5h0000gn/T/tfhub_modules/0eadd30f548cbfd3065119697ded6bb381668285/variables/variables' with bilm/RNN_1/RNN/MultiRNNCell/Cell1/rnn/lstm_cell/kernel\n",
      "INFO:tensorflow:Initialize variable module/bilm/RNN_1/RNN/MultiRNNCell/Cell1/rnn/lstm_cell/projection/kernel:0 from checkpoint b'/var/folders/c6/q7qf1btx3ljcxn300b8nqt5h0000gn/T/tfhub_modules/0eadd30f548cbfd3065119697ded6bb381668285/variables/variables' with bilm/RNN_1/RNN/MultiRNNCell/Cell1/rnn/lstm_cell/projection/kernel\n",
      "INFO:tensorflow:Initialize variable module/bilm/char_embed:0 from checkpoint b'/var/folders/c6/q7qf1btx3ljcxn300b8nqt5h0000gn/T/tfhub_modules/0eadd30f548cbfd3065119697ded6bb381668285/variables/variables' with bilm/char_embed\n",
      "Tensor(\"module_apply_default/aggregation/mul_3:0\", shape=(?, ?, 1024), dtype=float32)\n",
      "Tensor(\"Print:0\", shape=(?, ?, 1024), dtype=float32)\n"
     ]
    }
   ],
   "source": [
    "res = test_ELMO(['a cat', 'cat.', 'cat . cat', '.', 'cat . cat . .'])"
   ]
  },
  {
   "cell_type": "code",
   "execution_count": 71,
   "metadata": {},
   "outputs": [
    {
     "name": "stdout",
     "output_type": "stream",
     "text": [
      "(5, 5, 1024)\n",
      "a cat\n",
      "[ 0.39061972  0.19433165  0.3671496  -0.1912966  -0.1431603   0.18014482\n",
      "  0.22127017  0.04769919 -0.2150177  -0.5142016 ]\n",
      "[ 0.3557536  -0.12247674  0.34526724 -0.405725    0.2881232   0.07626529\n",
      "  0.16516809 -0.30891296  0.10977549 -0.47610378]\n",
      "[-0.02840839 -0.04353216  0.04130163 -0.02207175 -0.01146173 -0.00045961\n",
      "  0.04077656 -0.00169812 -0.05203742 -0.10817083]\n",
      "cat.\n",
      "[ 0.10518947  0.14983128  0.06539336 -0.93123144 -0.73175806 -0.32061303\n",
      " -0.33069712  0.40197653 -0.09677202 -0.6250049 ]\n",
      "[-0.02840839 -0.04353216  0.04130163 -0.02207175 -0.01146173 -0.00045961\n",
      "  0.04077656 -0.00169812 -0.05203742 -0.10817083]\n",
      "[-0.02840839 -0.04353216  0.04130163 -0.02207175 -0.01146173 -0.00045961\n",
      "  0.04077656 -0.00169812 -0.05203742 -0.10817083]\n",
      "cat . cat\n",
      "[ 0.9285457  -0.10769869 -0.08331865 -0.5213804   0.24587591  0.27843457\n",
      " -0.03003074 -0.79482424 -0.25080392 -0.62101686]\n",
      "[-0.42761803 -0.48227328 -0.7704065  -1.390705   -0.5402046  -0.18907799\n",
      "  0.22380383  0.4318723   0.25196624  0.39723223]\n",
      "[ 0.8514813  -0.33282074 -0.1809175  -0.5908251   0.07631704  0.11266236\n",
      "  0.15264495 -0.50067323 -0.03491268 -0.6519394 ]\n",
      ".\n",
      "[-0.46635228 -0.18451728 -0.12319511 -1.3629129  -0.45495147 -0.24257845\n",
      "  0.131933    0.7346656   0.03645932  0.20083684]\n",
      "[-0.02840839 -0.04353216  0.04130163 -0.02207175 -0.01146173 -0.00045961\n",
      "  0.04077656 -0.00169812 -0.05203742 -0.10817083]\n",
      "[-0.02840839 -0.04353216  0.04130163 -0.02207175 -0.01146173 -0.00045961\n",
      "  0.04077656 -0.00169812 -0.05203742 -0.10817083]\n",
      "cat . cat . .\n",
      "[ 0.928546   -0.10769876 -0.08331867 -0.5213803   0.24587584  0.2784345\n",
      " -0.03003082 -0.7948241  -0.25080383 -0.62101686]\n",
      "[-0.42761794 -0.48227304 -0.7704062  -1.390705   -0.5402045  -0.1890781\n",
      "  0.22380388  0.43187264  0.2519662   0.39723223]\n",
      "[-0.07830587 -0.42826927 -0.9233166  -1.5765064  -0.56484026  0.049018\n",
      "  0.02222706  0.6457745   0.18453443  0.1460043 ]\n",
      "[ 0.05865981 -0.33000475 -0.14871448 -1.1032771  -0.3793685   0.1402178\n",
      "  0.08855316  0.82108116  0.00161484  0.43279648]\n"
     ]
    },
    {
     "ename": "IndexError",
     "evalue": "index 5 is out of bounds for axis 1 with size 5",
     "output_type": "error",
     "traceback": [
      "\u001b[0;31m---------------------------------------------------------------------------\u001b[0m",
      "\u001b[0;31mIndexError\u001b[0m                                Traceback (most recent call last)",
      "\u001b[0;32m<ipython-input-71-5fb3b6310c3a>\u001b[0m in \u001b[0;36m<module>\u001b[0;34m()\u001b[0m\n\u001b[1;32m     22\u001b[0m \u001b[0mprint\u001b[0m\u001b[0;34m(\u001b[0m\u001b[0mres\u001b[0m\u001b[0;34m[\u001b[0m\u001b[0;36m4\u001b[0m\u001b[0;34m,\u001b[0m\u001b[0;36m3\u001b[0m\u001b[0;34m,\u001b[0m\u001b[0;34m:\u001b[0m\u001b[0;36m10\u001b[0m\u001b[0;34m]\u001b[0m\u001b[0;34m)\u001b[0m\u001b[0;34m\u001b[0m\u001b[0m\n\u001b[1;32m     23\u001b[0m \u001b[0mprint\u001b[0m\u001b[0;34m(\u001b[0m\u001b[0mres\u001b[0m\u001b[0;34m[\u001b[0m\u001b[0;36m4\u001b[0m\u001b[0;34m,\u001b[0m\u001b[0;36m4\u001b[0m\u001b[0;34m,\u001b[0m\u001b[0;34m:\u001b[0m\u001b[0;36m10\u001b[0m\u001b[0;34m]\u001b[0m\u001b[0;34m)\u001b[0m\u001b[0;34m\u001b[0m\u001b[0m\n\u001b[0;32m---> 24\u001b[0;31m \u001b[0mprint\u001b[0m\u001b[0;34m(\u001b[0m\u001b[0mres\u001b[0m\u001b[0;34m[\u001b[0m\u001b[0;36m4\u001b[0m\u001b[0;34m,\u001b[0m\u001b[0;36m5\u001b[0m\u001b[0;34m,\u001b[0m\u001b[0;34m:\u001b[0m\u001b[0;36m10\u001b[0m\u001b[0;34m]\u001b[0m\u001b[0;34m)\u001b[0m\u001b[0;34m\u001b[0m\u001b[0m\n\u001b[0m\u001b[1;32m     25\u001b[0m \u001b[0mprint\u001b[0m\u001b[0;34m(\u001b[0m\u001b[0mres\u001b[0m\u001b[0;34m[\u001b[0m\u001b[0;36m4\u001b[0m\u001b[0;34m,\u001b[0m\u001b[0;36m6\u001b[0m\u001b[0;34m,\u001b[0m\u001b[0;34m:\u001b[0m\u001b[0;36m10\u001b[0m\u001b[0;34m]\u001b[0m\u001b[0;34m)\u001b[0m\u001b[0;34m\u001b[0m\u001b[0m\n",
      "\u001b[0;31mIndexError\u001b[0m: index 5 is out of bounds for axis 1 with size 5"
     ]
    }
   ],
   "source": [
    "print(res.shape)\n",
    "print('a cat')\n",
    "print(res[0,0,:10])\n",
    "print(res[0,1,:10])\n",
    "print(res[0,2,:10])\n",
    "print('cat.')\n",
    "print(res[1,0,:10])\n",
    "print(res[1,1,:10])\n",
    "print(res[1,2,:10])\n",
    "print('cat . cat')\n",
    "print(res[2,0,:10])\n",
    "print(res[2,1,:10])\n",
    "print(res[2,2,:10])\n",
    "print('.')\n",
    "print(res[3,0,:10])\n",
    "print(res[3,1,:10])\n",
    "print(res[3,2,:10])\n",
    "\n",
    "print('cat . cat . .')\n",
    "print(res[4,0,:10])\n",
    "print(res[4,1,:10])\n",
    "print(res[4,3,:10])\n",
    "print(res[4,4,:10])\n",
    "print(res[4,5,:10])\n",
    "print(res[4,6,:10])"
   ]
  },
  {
   "cell_type": "code",
   "execution_count": null,
   "metadata": {
    "collapsed": true
   },
   "outputs": [],
   "source": []
  }
 ],
 "metadata": {
  "kernelspec": {
   "display_name": "Python 3",
   "language": "python",
   "name": "python3"
  },
  "language_info": {
   "codemirror_mode": {
    "name": "ipython",
    "version": 3
   },
   "file_extension": ".py",
   "mimetype": "text/x-python",
   "name": "python",
   "nbconvert_exporter": "python",
   "pygments_lexer": "ipython3",
   "version": "3.6.2"
  }
 },
 "nbformat": 4,
 "nbformat_minor": 2
}
